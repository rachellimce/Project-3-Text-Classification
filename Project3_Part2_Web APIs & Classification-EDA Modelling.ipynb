{
 "cells": [
  {
   "cell_type": "markdown",
   "metadata": {},
   "source": [
    "<img src=\"http://imgur.com/1ZcRyrc.png\" style=\"float: left; margin: 20px; height: 55px\">\n",
    "\n",
    "# Project 3: Web APIs & Classification - Part 2\n",
    "\n",
    "EDA Modelling and Conclusion"
   ]
  },
  {
   "cell_type": "markdown",
   "metadata": {
    "toc": true
   },
   "source": [
    "<h1>Table of Contents<span class=\"tocSkip\"></span></h1>\n",
    "<div class=\"toc\"><ul class=\"toc-item\"><li><span><a href=\"#Problem-Statement\" data-toc-modified-id=\"Problem-Statement-1\">Problem Statement</a></span></li><li><span><a href=\"#Part-2:-EDA,-Modelling-&amp;-Conclusion\" data-toc-modified-id=\"Part-2:-EDA,-Modelling-&amp;-Conclusion-2\">Part 2: EDA, Modelling &amp; Conclusion</a></span></li><li><span><a href=\"#NLP\" data-toc-modified-id=\"NLP-3\">NLP</a></span><ul class=\"toc-item\"><li><span><a href=\"#Cleaning-Data-(removing-irrelavant-characters,-cleaning-data,-removing-stopwords)\" data-toc-modified-id=\"Cleaning-Data-(removing-irrelavant-characters,-cleaning-data,-removing-stopwords)-3.1\">Cleaning Data (removing irrelavant characters, cleaning data, removing stopwords)</a></span></li><li><span><a href=\"#EDA\" data-toc-modified-id=\"EDA-3.2\">EDA</a></span><ul class=\"toc-item\"><li><span><a href=\"#WordCloud\" data-toc-modified-id=\"WordCloud-3.2.1\">WordCloud</a></span></li><li><span><a href=\"#Average-Length-of-each-post\" data-toc-modified-id=\"Average-Length-of-each-post-3.2.2\">Average Length of each post</a></span></li><li><span><a href=\"#Common-words-for-each-category\" data-toc-modified-id=\"Common-words-for-each-category-3.2.3\">Common words for each category</a></span></li></ul></li></ul></li><li><span><a href=\"#Model-Prep\" data-toc-modified-id=\"Model-Prep-4\">Model Prep</a></span><ul class=\"toc-item\"><li><span><a href=\"#Labelling\" data-toc-modified-id=\"Labelling-4.1\">Labelling</a></span></li><li><span><a href=\"#Train-Test-Split\" data-toc-modified-id=\"Train-Test-Split-4.2\">Train Test Split</a></span></li></ul></li><li><span><a href=\"#Predictive-Models\" data-toc-modified-id=\"Predictive-Models-5\">Predictive Models</a></span><ul class=\"toc-item\"><li><span><a href=\"#Models-with-Hyperparameter-tuning-and-Vectorizers\" data-toc-modified-id=\"Models-with-Hyperparameter-tuning-and-Vectorizers-5.1\">Models with Hyperparameter tuning and Vectorizers</a></span></li><li><span><a href=\"#Hyperparameters\" data-toc-modified-id=\"Hyperparameters-5.2\">Hyperparameters</a></span></li><li><span><a href=\"#Performance-Metrics\" data-toc-modified-id=\"Performance-Metrics-5.3\">Performance Metrics</a></span></li><li><span><a href=\"#User-Defined-Functions\" data-toc-modified-id=\"User-Defined-Functions-5.4\">User Defined Functions</a></span></li><li><span><a href=\"#Global-inputs-for-GridSearchCV\" data-toc-modified-id=\"Global-inputs-for-GridSearchCV-5.5\">Global inputs for GridSearchCV</a></span></li></ul></li><li><span><a href=\"#Model-Selection\" data-toc-modified-id=\"Model-Selection-6\">Model Selection</a></span><ul class=\"toc-item\"><li><span><a href=\"#Baseline-accuracy\" data-toc-modified-id=\"Baseline-accuracy-6.1\">Baseline accuracy</a></span></li><li><span><a href=\"#Logistic-Regression\" data-toc-modified-id=\"Logistic-Regression-6.2\">Logistic Regression</a></span></li><li><span><a href=\"#Multinomial-Naive-Bayes\" data-toc-modified-id=\"Multinomial-Naive-Bayes-6.3\">Multinomial Naive Bayes</a></span></li><li><span><a href=\"#KNN\" data-toc-modified-id=\"KNN-6.4\">KNN</a></span></li><li><span><a href=\"#Support-Vector-Machines\" data-toc-modified-id=\"Support-Vector-Machines-6.5\">Support Vector Machines</a></span></li></ul></li><li><span><a href=\"#Summary-of-Performance-of-Models:\" data-toc-modified-id=\"Summary-of-Performance-of-Models:-7\">Summary of Performance of Models:</a></span></li><li><span><a href=\"#Observations\" data-toc-modified-id=\"Observations-8\">Observations</a></span><ul class=\"toc-item\"><li><span><a href=\"#Top-Predictors\" data-toc-modified-id=\"Top-Predictors-8.1\">Top Predictors</a></span></li><li><span><a href=\"#Misclassified-data\" data-toc-modified-id=\"Misclassified-data-8.2\">Misclassified data</a></span></li></ul></li><li><span><a href=\"#Conclusion\" data-toc-modified-id=\"Conclusion-9\">Conclusion</a></span></li></ul></div>"
   ]
  },
  {
   "cell_type": "markdown",
   "metadata": {},
   "source": [
    "## Problem Statement\n",
    "\n",
    "As a member of the Data Science Team in All Wellness online platform, we are tasked to use NLP to reduce the time and efforts required to classify members' online queries into fitness related or diet related, which will then be  channeled to the panel of certified fitness coach or nutritionist. \n",
    "\n",
    "---"
   ]
  },
  {
   "cell_type": "markdown",
   "metadata": {},
   "source": [
    "## Part 2: EDA, Modelling & Conclusion\n",
    "---"
   ]
  },
  {
   "cell_type": "code",
   "execution_count": 472,
   "metadata": {},
   "outputs": [],
   "source": [
    "#import libraries\n",
    "\n",
    "#standard imports\n",
    "import pandas as pd\n",
    "#so that pandas do not truncate the rows\n",
    "pd.set_option('max_columns', 100) \n",
    "#Set datafrome display format\n",
    "pd.options.display.float_format = \"{:,.3f}\".format\n",
    "\n",
    "import numpy as np\n",
    "\n",
    "#graph imports\n",
    "import matplotlib.pyplot as plt\n",
    "import seaborn as sns\n",
    "%matplotlib inline\n",
    "#define the style of sns/plt\n",
    "\n",
    "#API imports\n",
    "import requests\n",
    "import time\n",
    "import random\n",
    "\n",
    "from bs4 import BeautifulSoup\n",
    "\n",
    "#Regex\n",
    "import regex as re\n",
    "\n",
    "#Lemmatizing and Stopwords\n",
    "from nltk.corpus import stopwords\n",
    "from nltk.stem import WordNetLemmatizer\n",
    "\n",
    "from nltk.tokenize import RegexpTokenizer\n",
    "from nltk.stem.porter import PorterStemmer\n",
    "\n",
    "#Modelling\n",
    "from sklearn.model_selection import train_test_split, GridSearchCV\n",
    "from sklearn.pipeline import Pipeline\n",
    "from sklearn.linear_model import LogisticRegression\n",
    "\n",
    "#==KNN\n",
    "from sklearn.neighbors import KNeighborsClassifier\n",
    "\n",
    "#==== Classification matrix\n",
    "from sklearn.metrics import f1_score, classification_report, accuracy_score, matthews_corrcoef\n",
    "from sklearn.metrics import plot_confusion_matrix, confusion_matrix, ConfusionMatrixDisplay\n",
    "from sklearn.metrics import plot_roc_curve, auc, roc_auc_score, RocCurveDisplay\n",
    "\n",
    "#=== Naive Bayes\n",
    "from sklearn.naive_bayes import MultinomialNB\n",
    "\n",
    "#=== CountVectorizer and TFIDFVectorizer from feature_extraction.text.\n",
    "from sklearn.feature_extraction.text import CountVectorizer, TfidfVectorizer\n",
    "\n",
    "from collections import Counter\n",
    "\n",
    "#=== SVC\n",
    "from sklearn.svm import SVC\n",
    "\n",
    "#word cloud\n",
    "from os import path\n",
    "from PIL import Image\n",
    "from wordcloud import WordCloud, STOPWORDS, ImageColorGenerator"
   ]
  },
  {
   "cell_type": "markdown",
   "metadata": {},
   "source": [
    "----"
   ]
  },
  {
   "cell_type": "markdown",
   "metadata": {},
   "source": [
    "## NLP\n",
    "\n",
    "<font color = \"blue\"> \n",
    "\n",
    "**Part 2** of the project focuses on **Natural Language Processing** and converting standard text data (like Titles and Comments) into a format that allows us to analyze it and use it in modeling. </font>"
   ]
  },
  {
   "cell_type": "code",
   "execution_count": null,
   "metadata": {},
   "outputs": [],
   "source": [
    "df_combine = pd.read_csv('datasets/combine.csv')"
   ]
  },
  {
   "cell_type": "markdown",
   "metadata": {},
   "source": [
    "### Cleaning Data (removing irrelavant characters, cleaning data, removing stopwords)"
   ]
  },
  {
   "cell_type": "code",
   "execution_count": 261,
   "metadata": {},
   "outputs": [],
   "source": [
    "def cleanwords(data, do_all=True):\n",
    "    \"\"\"\n",
    "    Function will remove all irrevant characters(or digits), HTML tags, stopwords), \n",
    "    then perform stemming to get the root word. \n",
    "    Takes in arguement:\n",
    "    data- str the raw text to be converted\n",
    "    \n",
    "    Return the list of cleaned and stemmed words\n",
    "    \"\"\"    \n",
    "    # 1. Remove HTML.\n",
    "    review_text = BeautifulSoup(data).get_text()\n",
    "    \n",
    "    # 2. Remove non-letters.\n",
    "    letters_only = re.sub(\"[^a-zA-Z]\", \" \", review_text)\n",
    "    \n",
    "    # 3. Convert to lower case, split into individual words.\n",
    "    words = letters_only.lower().split()\n",
    "    \n",
    "    # 4.remove stop words, including title of the subreddits\n",
    "    stops = set(stopwords.words('english'))\n",
    "    stops.update(['diet', 'diets', 'dieting', 'dieter', 'dieters', 'dietary', 'dieted', 'workout', 'workouts', 'working', 'working out'])\n",
    "    meaningful_words = [w for w in words if w not in stops]\n",
    "    \n",
    "    #5 Stemming\n",
    "    p_stemmer = PorterStemmer()\n",
    "    meaningful_words_stemmed = [p_stemmer.stem(w) for w in meaningful_words]\n",
    "    \n",
    "    #6 return the list of stemmed and cleaned words\n",
    "    return(meaningful_words_stemmed)"
   ]
  },
  {
   "cell_type": "code",
   "execution_count": 262,
   "metadata": {},
   "outputs": [],
   "source": [
    "#clean the posts\n",
    "df_combine['wordslist'] = df_combine['post'].apply(cleanwords)"
   ]
  },
  {
   "cell_type": "code",
   "execution_count": 263,
   "metadata": {},
   "outputs": [],
   "source": [
    "#have a column of all the stemmed words\n",
    "df_combine['stemmed_post'] = df_combine['wordslist'].str.join(\" \")"
   ]
  },
  {
   "cell_type": "markdown",
   "metadata": {},
   "source": [
    "<font color = \"blue\"> \n",
    "Separated the original post into list of actual words and stemmed words\n",
    "</font>"
   ]
  },
  {
   "cell_type": "markdown",
   "metadata": {},
   "source": [
    "---"
   ]
  },
  {
   "cell_type": "markdown",
   "metadata": {},
   "source": [
    "### EDA\n",
    "<font color = \"blue\"> \n",
    "\n",
    "\n",
    "\n",
    "- Analyse the features of the data\n",
    "- Create a Wordcloud to see the frequently occuring word. This will indicate how distinct the 2 subreddits are\n",
    "- Look at the average length of each post\n",
    "- Look at the common words to both documents</font>"
   ]
  },
  {
   "cell_type": "code",
   "execution_count": 264,
   "metadata": {
    "scrolled": true
   },
   "outputs": [
    {
     "name": "stderr",
     "output_type": "stream",
     "text": [
      "C:\\Users\\Rachel\\anaconda3\\lib\\site-packages\\ipykernel_launcher.py:1: FutureWarning: Indexing with multiple keys (implicitly converted to a tuple of keys) will be deprecated, use a list instead.\n",
      "  \"\"\"Entry point for launching an IPython kernel.\n"
     ]
    },
    {
     "data": {
      "text/html": [
       "<div>\n",
       "<style scoped>\n",
       "    .dataframe tbody tr th:only-of-type {\n",
       "        vertical-align: middle;\n",
       "    }\n",
       "\n",
       "    .dataframe tbody tr th {\n",
       "        vertical-align: top;\n",
       "    }\n",
       "\n",
       "    .dataframe thead th {\n",
       "        text-align: right;\n",
       "    }\n",
       "</style>\n",
       "<table border=\"1\" class=\"dataframe\">\n",
       "  <thead>\n",
       "    <tr style=\"text-align: right;\">\n",
       "      <th></th>\n",
       "      <th>subreddit</th>\n",
       "      <th>diet</th>\n",
       "      <th>workout</th>\n",
       "    </tr>\n",
       "  </thead>\n",
       "  <tbody>\n",
       "    <tr>\n",
       "      <th rowspan=\"4\" valign=\"top\">post</th>\n",
       "      <th>count</th>\n",
       "      <td>919</td>\n",
       "      <td>914</td>\n",
       "    </tr>\n",
       "    <tr>\n",
       "      <th>unique</th>\n",
       "      <td>919</td>\n",
       "      <td>914</td>\n",
       "    </tr>\n",
       "    <tr>\n",
       "      <th>top</th>\n",
       "      <td>Turmeric and how to use it Does putting a pinc...</td>\n",
       "      <td>Dont feel the burn Ive been working out at the...</td>\n",
       "    </tr>\n",
       "    <tr>\n",
       "      <th>freq</th>\n",
       "      <td>1</td>\n",
       "      <td>1</td>\n",
       "    </tr>\n",
       "    <tr>\n",
       "      <th rowspan=\"4\" valign=\"top\">wordslist</th>\n",
       "      <th>count</th>\n",
       "      <td>919</td>\n",
       "      <td>914</td>\n",
       "    </tr>\n",
       "    <tr>\n",
       "      <th>unique</th>\n",
       "      <td>914</td>\n",
       "      <td>914</td>\n",
       "    </tr>\n",
       "    <tr>\n",
       "      <th>top</th>\n",
       "      <td>[keto]</td>\n",
       "      <td>[need, good, plan, boy, realli, need, good, pl...</td>\n",
       "    </tr>\n",
       "    <tr>\n",
       "      <th>freq</th>\n",
       "      <td>3</td>\n",
       "      <td>1</td>\n",
       "    </tr>\n",
       "  </tbody>\n",
       "</table>\n",
       "</div>"
      ],
      "text/plain": [
       "subreddit                                                      diet  \\\n",
       "post      count                                                 919   \n",
       "          unique                                                919   \n",
       "          top     Turmeric and how to use it Does putting a pinc...   \n",
       "          freq                                                    1   \n",
       "wordslist count                                                 919   \n",
       "          unique                                                914   \n",
       "          top                                                [keto]   \n",
       "          freq                                                    3   \n",
       "\n",
       "subreddit                                                   workout  \n",
       "post      count                                                 914  \n",
       "          unique                                                914  \n",
       "          top     Dont feel the burn Ive been working out at the...  \n",
       "          freq                                                    1  \n",
       "wordslist count                                                 914  \n",
       "          unique                                                914  \n",
       "          top     [need, good, plan, boy, realli, need, good, pl...  \n",
       "          freq                                                    1  "
      ]
     },
     "execution_count": 264,
     "metadata": {},
     "output_type": "execute_result"
    }
   ],
   "source": [
    "df_combine.groupby('subreddit')['post', 'wordslist'].describe().T"
   ]
  },
  {
   "cell_type": "markdown",
   "metadata": {},
   "source": [
    "#### WordCloud"
   ]
  },
  {
   "cell_type": "code",
   "execution_count": 265,
   "metadata": {},
   "outputs": [],
   "source": [
    "#preparing the text for word cloud\n",
    "set_diet = \" \".join(r for r in df_combine[df_combine['subreddit']=='diet']['stemmed_post'])"
   ]
  },
  {
   "cell_type": "code",
   "execution_count": 266,
   "metadata": {},
   "outputs": [],
   "source": [
    "#preparing the text for word cloud for wholoe of \n",
    "set_workout = \" \".join(r for r in df_combine[df_combine['subreddit']=='workout']['stemmed_post'])"
   ]
  },
  {
   "cell_type": "code",
   "execution_count": 267,
   "metadata": {
    "scrolled": true
   },
   "outputs": [
    {
     "data": {
      "image/png": "[encoded data removed]",
      "text/plain": [
       "<Figure size 1440x1440 with 2 Axes>"
      ]
     },
     "metadata": {
      "needs_background": "light"
     },
     "output_type": "display_data"
    }
   ],
   "source": [
    "#plotting the word cloud\n",
    "fig, ax = plt.subplots(nrows=1, ncols=2, figsize=(20,20)) \n",
    "listwords = [{'Workout Set': set_workout}, \n",
    "             {'Diet Set': set_diet}]\n",
    "ax = ax.ravel()\n",
    "\n",
    "for i in range(len(listwords)):\n",
    "    key, val = next(iter(listwords[i].items())) \n",
    "    wordcloud = WordCloud( min_font_size=10, \n",
    "                          normalize_plurals=True,\n",
    "                         repeat=False).generate(str(val))\n",
    "    ax[i].imshow(wordcloud, interpolation='bilinear')\n",
    "    ax[i].axis(\"off\")\n",
    "    ax[i].set_title(str(key))\n",
    "    \n",
    "plt.show()"
   ]
  },
  {
   "cell_type": "markdown",
   "metadata": {},
   "source": [
    "<font color = \"blue\"> \n",
    "The 2 sets are pretty distinct from list of words they have in each subreddit\n",
    "There are some overlaps of words like 'day' and 'look' which could affect the accuracy of the prediction, but the distinct words should allow us to classify the classes with good accuracy\n",
    "</font>"
   ]
  },
  {
   "cell_type": "markdown",
   "metadata": {},
   "source": [
    "#### Average Length of each post"
   ]
  },
  {
   "cell_type": "code",
   "execution_count": 268,
   "metadata": {},
   "outputs": [],
   "source": [
    "#find the average length of the post. \n",
    "df_combine['lenpost'] =  df_combine['stemmed_post'].apply(lambda x: len(x))"
   ]
  },
  {
   "cell_type": "code",
   "execution_count": 269,
   "metadata": {
    "scrolled": false
   },
   "outputs": [
    {
     "data": {
      "text/html": [
       "<div>\n",
       "<style scoped>\n",
       "    .dataframe tbody tr th:only-of-type {\n",
       "        vertical-align: middle;\n",
       "    }\n",
       "\n",
       "    .dataframe tbody tr th {\n",
       "        vertical-align: top;\n",
       "    }\n",
       "\n",
       "    .dataframe thead th {\n",
       "        text-align: right;\n",
       "    }\n",
       "</style>\n",
       "<table border=\"1\" class=\"dataframe\">\n",
       "  <thead>\n",
       "    <tr style=\"text-align: right;\">\n",
       "      <th></th>\n",
       "      <th>min</th>\n",
       "      <th>max</th>\n",
       "      <th>average</th>\n",
       "    </tr>\n",
       "    <tr>\n",
       "      <th>subreddit</th>\n",
       "      <th></th>\n",
       "      <th></th>\n",
       "      <th></th>\n",
       "    </tr>\n",
       "  </thead>\n",
       "  <tbody>\n",
       "    <tr>\n",
       "      <th>diet</th>\n",
       "      <td>0</td>\n",
       "      <td>2478</td>\n",
       "      <td>223.535</td>\n",
       "    </tr>\n",
       "    <tr>\n",
       "      <th>workout</th>\n",
       "      <td>0</td>\n",
       "      <td>8450</td>\n",
       "      <td>238.155</td>\n",
       "    </tr>\n",
       "  </tbody>\n",
       "</table>\n",
       "</div>"
      ],
      "text/plain": [
       "           min   max  average\n",
       "subreddit                    \n",
       "diet         0  2478  223.535\n",
       "workout      0  8450  238.155"
      ]
     },
     "execution_count": 269,
     "metadata": {},
     "output_type": "execute_result"
    }
   ],
   "source": [
    "df_combine.groupby('subreddit')['lenpost'].agg([min, max, np.average])"
   ]
  },
  {
   "cell_type": "code",
   "execution_count": 270,
   "metadata": {
    "scrolled": true
   },
   "outputs": [
    {
     "data": {
      "text/html": [
       "<div>\n",
       "<style scoped>\n",
       "    .dataframe tbody tr th:only-of-type {\n",
       "        vertical-align: middle;\n",
       "    }\n",
       "\n",
       "    .dataframe tbody tr th {\n",
       "        vertical-align: top;\n",
       "    }\n",
       "\n",
       "    .dataframe thead th {\n",
       "        text-align: right;\n",
       "    }\n",
       "</style>\n",
       "<table border=\"1\" class=\"dataframe\">\n",
       "  <thead>\n",
       "    <tr style=\"text-align: right;\">\n",
       "      <th>subreddit</th>\n",
       "      <th>diet</th>\n",
       "      <th>workout</th>\n",
       "    </tr>\n",
       "  </thead>\n",
       "  <tbody>\n",
       "    <tr>\n",
       "      <th>count</th>\n",
       "      <td>919.000</td>\n",
       "      <td>914.000</td>\n",
       "    </tr>\n",
       "    <tr>\n",
       "      <th>mean</th>\n",
       "      <td>223.535</td>\n",
       "      <td>238.155</td>\n",
       "    </tr>\n",
       "    <tr>\n",
       "      <th>std</th>\n",
       "      <td>255.035</td>\n",
       "      <td>441.945</td>\n",
       "    </tr>\n",
       "    <tr>\n",
       "      <th>min</th>\n",
       "      <td>0.000</td>\n",
       "      <td>0.000</td>\n",
       "    </tr>\n",
       "    <tr>\n",
       "      <th>25%</th>\n",
       "      <td>41.500</td>\n",
       "      <td>79.000</td>\n",
       "    </tr>\n",
       "    <tr>\n",
       "      <th>50%</th>\n",
       "      <td>156.000</td>\n",
       "      <td>154.000</td>\n",
       "    </tr>\n",
       "    <tr>\n",
       "      <th>75%</th>\n",
       "      <td>300.000</td>\n",
       "      <td>278.000</td>\n",
       "    </tr>\n",
       "    <tr>\n",
       "      <th>max</th>\n",
       "      <td>2,478.000</td>\n",
       "      <td>8,450.000</td>\n",
       "    </tr>\n",
       "  </tbody>\n",
       "</table>\n",
       "</div>"
      ],
      "text/plain": [
       "subreddit      diet   workout\n",
       "count       919.000   914.000\n",
       "mean        223.535   238.155\n",
       "std         255.035   441.945\n",
       "min           0.000     0.000\n",
       "25%          41.500    79.000\n",
       "50%         156.000   154.000\n",
       "75%         300.000   278.000\n",
       "max       2,478.000 8,450.000"
      ]
     },
     "execution_count": 270,
     "metadata": {},
     "output_type": "execute_result"
    }
   ],
   "source": [
    "df_combine.groupby('subreddit')['lenpost'].describe().T"
   ]
  },
  {
   "cell_type": "markdown",
   "metadata": {},
   "source": [
    "<font color = \"blue\">There are empty records after stemming and cleaning. Investigate further </font>"
   ]
  },
  {
   "cell_type": "code",
   "execution_count": 271,
   "metadata": {
    "scrolled": true
   },
   "outputs": [
    {
     "data": {
      "text/html": [
       "<div>\n",
       "<style scoped>\n",
       "    .dataframe tbody tr th:only-of-type {\n",
       "        vertical-align: middle;\n",
       "    }\n",
       "\n",
       "    .dataframe tbody tr th {\n",
       "        vertical-align: top;\n",
       "    }\n",
       "\n",
       "    .dataframe thead th {\n",
       "        text-align: right;\n",
       "    }\n",
       "</style>\n",
       "<table border=\"1\" class=\"dataframe\">\n",
       "  <thead>\n",
       "    <tr style=\"text-align: right;\">\n",
       "      <th></th>\n",
       "      <th>subreddit</th>\n",
       "      <th>post</th>\n",
       "      <th>wordslist</th>\n",
       "      <th>stemmed_post</th>\n",
       "      <th>lenpost</th>\n",
       "    </tr>\n",
       "  </thead>\n",
       "  <tbody>\n",
       "    <tr>\n",
       "      <th>430</th>\n",
       "      <td>workout</td>\n",
       "      <td>Workout</td>\n",
       "      <td>[]</td>\n",
       "      <td></td>\n",
       "      <td>0</td>\n",
       "    </tr>\n",
       "    <tr>\n",
       "      <th>1098</th>\n",
       "      <td>diet</td>\n",
       "      <td>بدائل الارز في الكيو دايت</td>\n",
       "      <td>[]</td>\n",
       "      <td></td>\n",
       "      <td>0</td>\n",
       "    </tr>\n",
       "    <tr>\n",
       "      <th>1165</th>\n",
       "      <td>diet</td>\n",
       "      <td>😂</td>\n",
       "      <td>[]</td>\n",
       "      <td></td>\n",
       "      <td>0</td>\n",
       "    </tr>\n",
       "  </tbody>\n",
       "</table>\n",
       "</div>"
      ],
      "text/plain": [
       "     subreddit                        post wordslist stemmed_post  lenpost\n",
       "430    workout                    Workout         []                     0\n",
       "1098      diet  بدائل الارز في الكيو دايت         []                     0\n",
       "1165      diet                          😂         []                     0"
      ]
     },
     "execution_count": 271,
     "metadata": {},
     "output_type": "execute_result"
    }
   ],
   "source": [
    "df_combine[df_combine['lenpost']==0]"
   ]
  },
  {
   "cell_type": "markdown",
   "metadata": {},
   "source": [
    "<font color = \"blue\"> Removing the empty posts before doing the modelling</font>"
   ]
  },
  {
   "cell_type": "code",
   "execution_count": 272,
   "metadata": {},
   "outputs": [],
   "source": [
    "#drop rows for the empty rows\n",
    "droprows = df_combine[df_combine['lenpost']==0].index"
   ]
  },
  {
   "cell_type": "code",
   "execution_count": 273,
   "metadata": {},
   "outputs": [],
   "source": [
    "df_combine = df_combine.drop(droprows, axis=0)"
   ]
  },
  {
   "cell_type": "code",
   "execution_count": 274,
   "metadata": {},
   "outputs": [
    {
     "data": {
      "text/html": [
       "<div>\n",
       "<style scoped>\n",
       "    .dataframe tbody tr th:only-of-type {\n",
       "        vertical-align: middle;\n",
       "    }\n",
       "\n",
       "    .dataframe tbody tr th {\n",
       "        vertical-align: top;\n",
       "    }\n",
       "\n",
       "    .dataframe thead th {\n",
       "        text-align: right;\n",
       "    }\n",
       "</style>\n",
       "<table border=\"1\" class=\"dataframe\">\n",
       "  <thead>\n",
       "    <tr style=\"text-align: right;\">\n",
       "      <th></th>\n",
       "      <th>min</th>\n",
       "      <th>max</th>\n",
       "      <th>average</th>\n",
       "    </tr>\n",
       "    <tr>\n",
       "      <th>subreddit</th>\n",
       "      <th></th>\n",
       "      <th></th>\n",
       "      <th></th>\n",
       "    </tr>\n",
       "  </thead>\n",
       "  <tbody>\n",
       "    <tr>\n",
       "      <th>diet</th>\n",
       "      <td>3</td>\n",
       "      <td>2478</td>\n",
       "      <td>224.023</td>\n",
       "    </tr>\n",
       "    <tr>\n",
       "      <th>workout</th>\n",
       "      <td>3</td>\n",
       "      <td>8450</td>\n",
       "      <td>238.416</td>\n",
       "    </tr>\n",
       "  </tbody>\n",
       "</table>\n",
       "</div>"
      ],
      "text/plain": [
       "           min   max  average\n",
       "subreddit                    \n",
       "diet         3  2478  224.023\n",
       "workout      3  8450  238.416"
      ]
     },
     "execution_count": 274,
     "metadata": {},
     "output_type": "execute_result"
    }
   ],
   "source": [
    "df_combine.groupby('subreddit')['lenpost'].agg([ min, max, np.average])"
   ]
  },
  {
   "cell_type": "markdown",
   "metadata": {},
   "source": [
    "<font color = \"blue\"> Each subreddit had average of 225 to 241 words in each posts. Data seemed balance from both categoies </font>"
   ]
  },
  {
   "cell_type": "code",
   "execution_count": 275,
   "metadata": {},
   "outputs": [
    {
     "data": {
      "text/plain": [
       "array([<AxesSubplot:title={'center':'diet'}>,\n",
       "       <AxesSubplot:title={'center':'workout'}>], dtype=object)"
      ]
     },
     "execution_count": 275,
     "metadata": {},
     "output_type": "execute_result"
    },
    {
     "data": {
      "image/png": "[encoded data removed]",
      "text/plain": [
       "<Figure size 864x360 with 2 Axes>"
      ]
     },
     "metadata": {
      "needs_background": "light"
     },
     "output_type": "display_data"
    }
   ],
   "source": [
    "#checking the average length of each post\n",
    "df_combine.hist(column='lenpost', by='subreddit', bins=15, figsize=(12,5), sharex=True,\n",
    "    sharey = True)"
   ]
  },
  {
   "cell_type": "markdown",
   "metadata": {},
   "source": [
    "<font color = \"blue\"> Diet group generally have a bigger variance in the length of posts  </font>"
   ]
  },
  {
   "cell_type": "markdown",
   "metadata": {},
   "source": [
    "#### Common words for each category"
   ]
  },
  {
   "cell_type": "code",
   "execution_count": 368,
   "metadata": {},
   "outputs": [],
   "source": [
    "def findcommonwords(data, isstr=True, num_words=20, plot=True, color=None):\n",
    "    \"\"\"\n",
    "    Function to count the top number of wrords and display in a graph\n",
    "    Takes in arguements:\n",
    "    - data - list or string to count words\n",
    "    - isstr - if True, data parsed in is a string, and needs to perform split into list \n",
    "    - num_words - count of the most common words\n",
    "    - plot - if a graph is required to be plotted. \n",
    "    \n",
    "    Returns Dataframe of the common words and their count\n",
    "    \"\"\"\n",
    "    if isstr:\n",
    "        #splitting into individual words\n",
    "        indiv_words = data.split(\" \")\n",
    "    else:\n",
    "        indiv_words = data\n",
    "        \n",
    "    common = pd.DataFrame(Counter(indiv_words).most_common(num_words), columns=('words', 'count')).sort_values(by='count', ascending=False)\n",
    "    \n",
    "    if plot:\n",
    "        \n",
    "        sns.barplot(x='count', y='words', data=common, color=color)\n",
    "        \n",
    "    return common"
   ]
  },
  {
   "cell_type": "code",
   "execution_count": 369,
   "metadata": {},
   "outputs": [
    {
     "data": {
      "image/png": "[encoded data removed]",
      "text/plain": [
       "<Figure size 432x288 with 1 Axes>"
      ]
     },
     "metadata": {
      "needs_background": "light"
     },
     "output_type": "display_data"
    }
   ],
   "source": [
    "#plot out the top 20 common words for workout document\n",
    "common_diet = findcommonwords(set_diet, isstr=True, num_words=20, plot=True, color='maroon')"
   ]
  },
  {
   "cell_type": "code",
   "execution_count": 370,
   "metadata": {},
   "outputs": [
    {
     "data": {
      "image/png": "[encoded data removed]",
      "text/plain": [
       "<Figure size 432x288 with 1 Axes>"
      ]
     },
     "metadata": {
      "needs_background": "light"
     },
     "output_type": "display_data"
    }
   ],
   "source": [
    "#plot out the top 20 common words for workout document\n",
    "common_workout = findcommonwords(set_workout, isstr=True, num_words=20, plot=True, color='green')"
   ]
  },
  {
   "cell_type": "code",
   "execution_count": 279,
   "metadata": {},
   "outputs": [],
   "source": [
    "#comparing the 2 dataframes on the 20 top common words:\n",
    "def dataframe_difference(df1, df2, which=None):\n",
    "    \"\"\"Find rows which are different between two DataFrames.\"\"\"\n",
    "    comparison_df = df1.merge(df2, on='words',\n",
    "                              indicator=True,\n",
    "                              how='outer')\n",
    "    if which is None:\n",
    "        diff_df = comparison_df[comparison_df['_merge'] != 'both']\n",
    "    else:\n",
    "        diff_df = comparison_df[comparison_df['_merge'] == which]\n",
    "    return diff_df"
   ]
  },
  {
   "cell_type": "code",
   "execution_count": 280,
   "metadata": {
    "scrolled": false
   },
   "outputs": [
    {
     "data": {
      "text/html": [
       "<div>\n",
       "<style scoped>\n",
       "    .dataframe tbody tr th:only-of-type {\n",
       "        vertical-align: middle;\n",
       "    }\n",
       "\n",
       "    .dataframe tbody tr th {\n",
       "        vertical-align: top;\n",
       "    }\n",
       "\n",
       "    .dataframe thead th {\n",
       "        text-align: right;\n",
       "    }\n",
       "</style>\n",
       "<table border=\"1\" class=\"dataframe\">\n",
       "  <thead>\n",
       "    <tr style=\"text-align: right;\">\n",
       "      <th></th>\n",
       "      <th>words</th>\n",
       "      <th>count_x</th>\n",
       "      <th>count_y</th>\n",
       "      <th>_merge</th>\n",
       "    </tr>\n",
       "  </thead>\n",
       "  <tbody>\n",
       "    <tr>\n",
       "      <th>0</th>\n",
       "      <td>eat</td>\n",
       "      <td>890.000</td>\n",
       "      <td>232.000</td>\n",
       "      <td>both</td>\n",
       "    </tr>\n",
       "    <tr>\n",
       "      <th>1</th>\n",
       "      <td>day</td>\n",
       "      <td>552.000</td>\n",
       "      <td>442.000</td>\n",
       "      <td>both</td>\n",
       "    </tr>\n",
       "    <tr>\n",
       "      <th>2</th>\n",
       "      <td>weight</td>\n",
       "      <td>515.000</td>\n",
       "      <td>502.000</td>\n",
       "      <td>both</td>\n",
       "    </tr>\n",
       "    <tr>\n",
       "      <th>5</th>\n",
       "      <td>like</td>\n",
       "      <td>341.000</td>\n",
       "      <td>353.000</td>\n",
       "      <td>both</td>\n",
       "    </tr>\n",
       "    <tr>\n",
       "      <th>6</th>\n",
       "      <td>get</td>\n",
       "      <td>295.000</td>\n",
       "      <td>420.000</td>\n",
       "      <td>both</td>\n",
       "    </tr>\n",
       "    <tr>\n",
       "      <th>7</th>\n",
       "      <td>help</td>\n",
       "      <td>252.000</td>\n",
       "      <td>316.000</td>\n",
       "      <td>both</td>\n",
       "    </tr>\n",
       "    <tr>\n",
       "      <th>9</th>\n",
       "      <td>want</td>\n",
       "      <td>245.000</td>\n",
       "      <td>344.000</td>\n",
       "      <td>both</td>\n",
       "    </tr>\n",
       "    <tr>\n",
       "      <th>10</th>\n",
       "      <td>would</td>\n",
       "      <td>245.000</td>\n",
       "      <td>236.000</td>\n",
       "      <td>both</td>\n",
       "    </tr>\n",
       "    <tr>\n",
       "      <th>11</th>\n",
       "      <td>week</td>\n",
       "      <td>241.000</td>\n",
       "      <td>267.000</td>\n",
       "      <td>both</td>\n",
       "    </tr>\n",
       "    <tr>\n",
       "      <th>12</th>\n",
       "      <td>know</td>\n",
       "      <td>238.000</td>\n",
       "      <td>275.000</td>\n",
       "      <td>both</td>\n",
       "    </tr>\n",
       "    <tr>\n",
       "      <th>13</th>\n",
       "      <td>tri</td>\n",
       "      <td>233.000</td>\n",
       "      <td>262.000</td>\n",
       "      <td>both</td>\n",
       "    </tr>\n",
       "    <tr>\n",
       "      <th>14</th>\n",
       "      <td>fat</td>\n",
       "      <td>233.000</td>\n",
       "      <td>273.000</td>\n",
       "      <td>both</td>\n",
       "    </tr>\n",
       "    <tr>\n",
       "      <th>15</th>\n",
       "      <td>go</td>\n",
       "      <td>229.000</td>\n",
       "      <td>249.000</td>\n",
       "      <td>both</td>\n",
       "    </tr>\n",
       "    <tr>\n",
       "      <th>17</th>\n",
       "      <td>start</td>\n",
       "      <td>217.000</td>\n",
       "      <td>393.000</td>\n",
       "      <td>both</td>\n",
       "    </tr>\n",
       "  </tbody>\n",
       "</table>\n",
       "</div>"
      ],
      "text/plain": [
       "     words  count_x  count_y _merge\n",
       "0      eat  890.000  232.000   both\n",
       "1      day  552.000  442.000   both\n",
       "2   weight  515.000  502.000   both\n",
       "5     like  341.000  353.000   both\n",
       "6      get  295.000  420.000   both\n",
       "7     help  252.000  316.000   both\n",
       "9     want  245.000  344.000   both\n",
       "10   would  245.000  236.000   both\n",
       "11    week  241.000  267.000   both\n",
       "12    know  238.000  275.000   both\n",
       "13     tri  233.000  262.000   both\n",
       "14     fat  233.000  273.000   both\n",
       "15      go  229.000  249.000   both\n",
       "17   start  217.000  393.000   both"
      ]
     },
     "execution_count": 280,
     "metadata": {},
     "output_type": "execute_result"
    }
   ],
   "source": [
    "dataframe_difference(common_diet, common_workout, which='both')"
   ]
  },
  {
   "cell_type": "markdown",
   "metadata": {},
   "source": [
    "<font color = \"blue\"> \n",
    "Existence of these words in both classes may cause error. I will remove them from the stop words as well</font>"
   ]
  },
  {
   "cell_type": "code",
   "execution_count": 281,
   "metadata": {},
   "outputs": [],
   "source": [
    "common_words =  dataframe_difference(common_diet, common_workout, which='both')['words'].tolist()"
   ]
  },
  {
   "cell_type": "code",
   "execution_count": 282,
   "metadata": {
    "scrolled": true
   },
   "outputs": [
    {
     "data": {
      "text/plain": [
       "['eat',\n",
       " 'day',\n",
       " 'weight',\n",
       " 'like',\n",
       " 'get',\n",
       " 'help',\n",
       " 'want',\n",
       " 'would',\n",
       " 'week',\n",
       " 'know',\n",
       " 'tri',\n",
       " 'fat',\n",
       " 'go',\n",
       " 'start']"
      ]
     },
     "execution_count": 282,
     "metadata": {},
     "output_type": "execute_result"
    }
   ],
   "source": [
    "common_words"
   ]
  },
  {
   "cell_type": "markdown",
   "metadata": {},
   "source": [
    "## Model Prep"
   ]
  },
  {
   "cell_type": "markdown",
   "metadata": {},
   "source": [
    "\n",
    "### Labelling\n",
    " \n",
    "Convert workout/diet sets into binary labels:\n",
    "- 0 for workout\n",
    "- 1 for diet\n"
   ]
  },
  {
   "cell_type": "code",
   "execution_count": 283,
   "metadata": {
    "scrolled": true
   },
   "outputs": [
    {
     "data": {
      "text/html": [
       "<div>\n",
       "<style scoped>\n",
       "    .dataframe tbody tr th:only-of-type {\n",
       "        vertical-align: middle;\n",
       "    }\n",
       "\n",
       "    .dataframe tbody tr th {\n",
       "        vertical-align: top;\n",
       "    }\n",
       "\n",
       "    .dataframe thead th {\n",
       "        text-align: right;\n",
       "    }\n",
       "</style>\n",
       "<table border=\"1\" class=\"dataframe\">\n",
       "  <thead>\n",
       "    <tr style=\"text-align: right;\">\n",
       "      <th></th>\n",
       "      <th>subreddit</th>\n",
       "      <th>post</th>\n",
       "      <th>wordslist</th>\n",
       "      <th>stemmed_post</th>\n",
       "      <th>lenpost</th>\n",
       "      <th>is_diet</th>\n",
       "    </tr>\n",
       "  </thead>\n",
       "  <tbody>\n",
       "    <tr>\n",
       "      <th>1828</th>\n",
       "      <td>diet</td>\n",
       "      <td>Am I Actually \"Intermittent Fasting\"? I have b...</td>\n",
       "      <td>[actual, intermitt, fast, lot, success, keto, ...</td>\n",
       "      <td>actual intermitt fast lot success keto plateau...</td>\n",
       "      <td>502</td>\n",
       "      <td>1</td>\n",
       "    </tr>\n",
       "    <tr>\n",
       "      <th>1829</th>\n",
       "      <td>diet</td>\n",
       "      <td>50 calories over calorie allowance I went over...</td>\n",
       "      <td>[calori, calori, allow, went, calori, allow, c...</td>\n",
       "      <td>calori calori allow went calori allow calori e...</td>\n",
       "      <td>88</td>\n",
       "      <td>1</td>\n",
       "    </tr>\n",
       "    <tr>\n",
       "      <th>1830</th>\n",
       "      <td>diet</td>\n",
       "      <td>BEST WHEY PROTEIN FOR WEIGHT LOSS (lean) Which...</td>\n",
       "      <td>[best, whey, protein, weight, loss, lean, prot...</td>\n",
       "      <td>best whey protein weight loss lean protein bes...</td>\n",
       "      <td>121</td>\n",
       "      <td>1</td>\n",
       "    </tr>\n",
       "    <tr>\n",
       "      <th>1831</th>\n",
       "      <td>diet</td>\n",
       "      <td>Keep getting cravings/hungry in the evening He...</td>\n",
       "      <td>[keep, get, crave, hungri, even, hey, new, cut...</td>\n",
       "      <td>keep get crave hungri even hey new cut calori ...</td>\n",
       "      <td>311</td>\n",
       "      <td>1</td>\n",
       "    </tr>\n",
       "    <tr>\n",
       "      <th>1832</th>\n",
       "      <td>diet</td>\n",
       "      <td>Why is my diet so expensive to maintain? So I ...</td>\n",
       "      <td>[expens, maintain, got, back, shop, spent, alm...</td>\n",
       "      <td>expens maintain got back shop spent almost alm...</td>\n",
       "      <td>694</td>\n",
       "      <td>1</td>\n",
       "    </tr>\n",
       "  </tbody>\n",
       "</table>\n",
       "</div>"
      ],
      "text/plain": [
       "     subreddit                                               post  \\\n",
       "1828      diet  Am I Actually \"Intermittent Fasting\"? I have b...   \n",
       "1829      diet  50 calories over calorie allowance I went over...   \n",
       "1830      diet  BEST WHEY PROTEIN FOR WEIGHT LOSS (lean) Which...   \n",
       "1831      diet  Keep getting cravings/hungry in the evening He...   \n",
       "1832      diet  Why is my diet so expensive to maintain? So I ...   \n",
       "\n",
       "                                              wordslist  \\\n",
       "1828  [actual, intermitt, fast, lot, success, keto, ...   \n",
       "1829  [calori, calori, allow, went, calori, allow, c...   \n",
       "1830  [best, whey, protein, weight, loss, lean, prot...   \n",
       "1831  [keep, get, crave, hungri, even, hey, new, cut...   \n",
       "1832  [expens, maintain, got, back, shop, spent, alm...   \n",
       "\n",
       "                                           stemmed_post  lenpost  is_diet  \n",
       "1828  actual intermitt fast lot success keto plateau...      502        1  \n",
       "1829  calori calori allow went calori allow calori e...       88        1  \n",
       "1830  best whey protein weight loss lean protein bes...      121        1  \n",
       "1831  keep get crave hungri even hey new cut calori ...      311        1  \n",
       "1832  expens maintain got back shop spent almost alm...      694        1  "
      ]
     },
     "execution_count": 283,
     "metadata": {},
     "output_type": "execute_result"
    }
   ],
   "source": [
    "df_combine['is_diet'] = df_combine['subreddit'].map({'workout': 0, 'diet': 1})\n",
    "df_combine.tail()"
   ]
  },
  {
   "cell_type": "code",
   "execution_count": 284,
   "metadata": {
    "scrolled": false
   },
   "outputs": [
    {
     "data": {
      "text/plain": [
       "1    917\n",
       "0    913\n",
       "Name: is_diet, dtype: int64"
      ]
     },
     "execution_count": 284,
     "metadata": {},
     "output_type": "execute_result"
    }
   ],
   "source": [
    "df_combine['is_diet'].value_counts()"
   ]
  },
  {
   "cell_type": "markdown",
   "metadata": {},
   "source": [
    "### Train Test Split"
   ]
  },
  {
   "cell_type": "code",
   "execution_count": 285,
   "metadata": {},
   "outputs": [],
   "source": []
  },
  {
   "cell_type": "code",
   "execution_count": 286,
   "metadata": {},
   "outputs": [],
   "source": [
    "X = df_combine['stemmed_post']\n",
    "y = df_combine['is_diet']"
   ]
  },
  {
   "cell_type": "code",
   "execution_count": 287,
   "metadata": {},
   "outputs": [],
   "source": [
    "#Train test split with stratify\n",
    "X_train, X_val, y_train, y_val = train_test_split(X,y,random_state=42, stratify=y, test_size=0.33)"
   ]
  },
  {
   "cell_type": "code",
   "execution_count": 288,
   "metadata": {},
   "outputs": [
    {
     "data": {
      "text/plain": [
       "(1226,)"
      ]
     },
     "execution_count": 288,
     "metadata": {},
     "output_type": "execute_result"
    }
   ],
   "source": [
    "X_train.shape"
   ]
  },
  {
   "cell_type": "code",
   "execution_count": 289,
   "metadata": {
    "scrolled": false
   },
   "outputs": [
    {
     "data": {
      "text/plain": [
       "(604,)"
      ]
     },
     "execution_count": 289,
     "metadata": {},
     "output_type": "execute_result"
    }
   ],
   "source": [
    "X_val.shape"
   ]
  },
  {
   "cell_type": "markdown",
   "metadata": {},
   "source": [
    "## Predictive Models\n",
    "**Part 3** of the project focuses on **Classification Modeling.** \n",
    "\n",
    "### Models with Hyperparameter tuning and Vectorizers\n",
    "\n",
    "We will use both ```CountVectorizer()``` and ```TfidfVectorizer()``` to transform the data before fitting into the following models:\n",
    "\n",
    "1. Logistic Regression \n",
    "2. Naive Bayes \n",
    "3. KNearestNeighbours with (KNN) \n",
    "4. Support Vector Machines (SVM) \n",
    "\n",
    "The models will be run with **hyperparameters tuning** for the various model using GridSearch on 5-folds Cross Validation"
   ]
  },
  {
   "cell_type": "markdown",
   "metadata": {},
   "source": [
    "### Hyperparameters\n",
    "\n",
    "**CountVectorizer Parameters:**\n",
    "- max_features': [1000, 3000, 5000]\n",
    "- max_df': [1, 3, 5, 7]\n",
    "\n",
    "**TF-IDF Parameters:**\n",
    "- max_features': [1000, 3000, 5000]\n",
    "- max_df': [0.3, 0.4, 0.5, 0.7]\n",
    "- ngram_range':[(1,2), (2,2)]\n",
    "\n",
    "**Linear Regression:**\n",
    "- solver': ['newton-cg', 'lbfgs', 'liblinear']\n",
    "- C':[100,10,1.0, 0.1, 0.01]\n",
    "- penalty':['l1', 'l2']\n",
    "\n",
    "**KNeighbours:**\n",
    "- n_neighbors': [3,5,7,9, 11, 13]\n",
    "\n",
    "**Support Vector Machine:** \n",
    "- svm__C': [1.0, 2.0, 3.0],\n",
    "- svm__kernel': ['rbf', 'linear', 'poly'],\n",
    "- svm__degree': [3,4,5]"
   ]
  },
  {
   "cell_type": "markdown",
   "metadata": {},
   "source": [
    "### Performance Metrics\n",
    "\n",
    "The models will be gauged on the performance using the following metrics:\n",
    "\n",
    "**1) Accuracy - TP+TN/total records**\n",
    "   - How accurate is the Model in predicting both classes? \n",
    "   - The higher score the more accurate the model is at predicting the classes\n",
    "    \n",
    "**2) Matthews Correlation Coefficient (MCC)** \n",
    "   - What is the correlation coefficient between the observed and predicted binary classifications --  \n",
    "   - the  higher the score indicates that the model was able to correctly predict the majority of positive data instances and the majority of negative data instances\n",
    "   \n",
    "Not considering other metrics like Recall or Specificity because the 2 classes are equally important, and not just looking at the positive class, and in this case, accuracy and MCC will be a better gauge on model performanace.\n"
   ]
  },
  {
   "cell_type": "markdown",
   "metadata": {},
   "source": [
    "### User Defined Functions"
   ]
  },
  {
   "cell_type": "code",
   "execution_count": 465,
   "metadata": {},
   "outputs": [],
   "source": [
    "def classifiermodel(X_train, y_train, X_test, y_test, model, gs=False, title=None):\n",
    "    \n",
    "    \"\"\"\"\n",
    "    Function to fit and display scores of the model, the confusion matrix and AUC ROC\n",
    "    \n",
    "    Take in Arguements:\n",
    "     - X_train, y_train, X_test, y_test - the train test split data\n",
    "     - model - the type of model to fit data\n",
    "     - gs - if the model parsed in is a grid search\n",
    "     - est_trans - the type of estimator and transformer being used\n",
    "     - labels - list that model is classification\n",
    "     \n",
    "     Returns the dataframe of the predicted values and actual values\n",
    "    \"\"\"    \n",
    "    model.fit(X_train, y_train)\n",
    "    trgscore = model.score(X_train, y_train)\n",
    "    y_pred = model.predict(X_test)\n",
    "    valscore = model.score(X_test, y_test)\n",
    "    \n",
    "    #getting the probabilities of test data\n",
    "    \n",
    "    if gs:\n",
    "        best_model = model.best_estimator_\n",
    "        best_score = model.best_score_\n",
    "        best_params =  model.best_params_\n",
    "    else:\n",
    "        best_model = model\n",
    "        best_score = trgscore\n",
    "        best_params = model.get_params()\n",
    "        \n",
    "    proba = model.predict_proba(X_test)\n",
    "    proba = proba[:, 1]\n",
    "\n",
    "    print(f'======== {title} =================\\n')\n",
    "    \n",
    "    \n",
    "    print('Best parameters  : ', best_params)\n",
    "    print('Best CV  score   : ', best_score)\n",
    "    print('Training score   :', trgscore)\n",
    "    print('Validation score :', valscore)\n",
    "    print()    \n",
    "        \n",
    "    return y_pred, proba"
   ]
  },
  {
   "cell_type": "code",
   "execution_count": 494,
   "metadata": {},
   "outputs": [],
   "source": [
    "def model_metrics(true, pred, prob, cm=False, show_df=False, title = 'Model_Metrics', labels=['0', '1']):\n",
    "    \"\"\"\n",
    "    Function that calculates and returns a dataframe with classification metrics.\n",
    "    Input\n",
    "    true: true values of target variable\n",
    "    pred: predicted values of target variable\n",
    "    prob: probability of positive class \n",
    "    cm: confusion matrix will be plot if == True\n",
    "    show_df: dataframe with metrics will be displayed if == True\n",
    "    title: the column name for the dataframe that is displayed/returned\n",
    "    labels: the negative and positive class labels \n",
    "    \n",
    "    Output\n",
    "    df: dataframe with classification metrics\n",
    "    \n",
    "    Metric Descriptions\n",
    "    True Positive: total number of positive class correctly predicted\n",
    "    True Negative: total number of negative class correctly predicted\n",
    "    False Positives (Type I Error): total number of negatives class predicted as positive\n",
    "    False Negative (Type II Error): total number of positives class predicted as negative\n",
    "    \n",
    "    Accuracy: Percentage of observations correctly classified.\n",
    "    Misclassification Rate: Percentage of observations incorrectly classified.\n",
    "    Sensitivity(Recall): Percentage of observations with positive correctly classified.\n",
    "    Specificity: Percentage of observations with negative correctly classified.\n",
    "    Precision: Percentage of positive class prediction vs total positive predictions\n",
    "    F1 Score: Weighted average of the precision and recall, where an F1 score reaches its best value at 1 and worst score at 0\n",
    "    AUC ROC: AUC ROC Score\n",
    "    \"\"\"\n",
    "    tn, fp, fn, tp = confusion_matrix(true, pred).ravel()\n",
    "    fpr, tpr, threhold = roc_curve(true, prob)\n",
    "    \n",
    "    if cm:\n",
    "        fig, ax = plt.subplots(nrows=1, ncols=2, figsize=(15,5))\n",
    "        ax = ax.ravel()\n",
    " \n",
    "        #plot confusion matrix\n",
    "        ax[0].set_title('Confusion Matrix')\n",
    "        sns.heatmap([[tn,fp],[fn,tp]], \n",
    "                         annot=True, \n",
    "                         cmap=\"YlGnBu\", \n",
    "                         cbar_kws={'label': 'Scale'}, \n",
    "                         fmt='g', ax=ax[0])\n",
    "        ax[0].set_xticklabels(labels)\n",
    "        ax[0].set_yticklabels(labels)\n",
    "        ax[0].set(ylabel=\"True Label\", xlabel=\"Predicted Label\")\n",
    "        \n",
    "        #plot roc_curve\n",
    "        ax[1].set_title('ROC Curve')\n",
    "        ax[1].plot(fpr, tpr, lw = 2, label='ROC curve (area = %0.2f)' % roc_auc_score(true,prob))\n",
    "        ax[1].plot([0, 1], [0,1], lw = 2, linestyle = '--')\n",
    "        ax[1].set(ylabel=\"True Positive Rate\", xlabel=\"False Positive Rate\")\n",
    "        ax[1].legend(loc='lower right')\n",
    "        \n",
    "        \n",
    "    df = pd.DataFrame(data = [(tp+tn)/(tp+fp+tn+fn),\n",
    "                              1- ((tp+tn)/(tp+fp+tn+fn)),\n",
    "                              tp/(tp+fn),\n",
    "                              tn/(tn+fp),\n",
    "                              tp/(tp+fp),\n",
    "                              tp,\n",
    "                              fp,\n",
    "                              fn,\n",
    "                              tn,\n",
    "                              f1_score(true, pred),\n",
    "                              roc_auc_score(true,prob),\n",
    "                              matthews_corrcoef(true, pred)],\n",
    "                         index = ['Accuracy',\n",
    "                                  'Misclassification Rate',\n",
    "                                  'Sensitivity (Recall)',\n",
    "                                  'Specificity',\n",
    "                                  'Precision', \n",
    "                                  'True Positive',\n",
    "                                  'False Positive',\n",
    "                                  'False Negative',\n",
    "                                  'True Negative', \n",
    "                                  'F1-Score',\n",
    "                                  'AUC Score',\n",
    "                                  'Matthews Correlation'],\n",
    "                        columns = [title])\n",
    "    if show_df:\n",
    "        display(df)\n",
    "    return(df)"
   ]
  },
  {
   "cell_type": "code",
   "execution_count": 467,
   "metadata": {},
   "outputs": [],
   "source": [
    "def plot_impt_features(features_df, title, top_feat=20):\n",
    "    plt.figure(figsize=(12,6))\n",
    "    sns.barplot(x = features_df['feature_importance'][:top_feat], y = features_df['feature'][:top_feat], color='b')\n",
    "    plt.title(title, fontsize=18)\n",
    "    plt.xlabel('Feature importance', fontsize=14)\n",
    "    plt.xticks(size=13)\n",
    "    plt.ylabel(None)\n",
    "    plt.yticks(size=13);"
   ]
  },
  {
   "cell_type": "markdown",
   "metadata": {},
   "source": [
    "### Global inputs for GridSearchCV"
   ]
  },
  {
   "cell_type": "code",
   "execution_count": 478,
   "metadata": {},
   "outputs": [],
   "source": [
    "cv = 5\n",
    "n_jobs = -1\n",
    "labels = ['workout', 'diet']"
   ]
  },
  {
   "cell_type": "markdown",
   "metadata": {},
   "source": [
    "## Model Selection"
   ]
  },
  {
   "cell_type": "markdown",
   "metadata": {},
   "source": [
    "### Baseline accuracy"
   ]
  },
  {
   "cell_type": "code",
   "execution_count": 290,
   "metadata": {
    "scrolled": false
   },
   "outputs": [
    {
     "data": {
      "text/plain": [
       "1   0.502\n",
       "0   0.498\n",
       "Name: is_diet, dtype: float64"
      ]
     },
     "execution_count": 290,
     "metadata": {},
     "output_type": "execute_result"
    }
   ],
   "source": [
    "y_val.value_counts(normalize=True)"
   ]
  },
  {
   "cell_type": "markdown",
   "metadata": {},
   "source": [
    "<font color = \"blue\"> Baseline model: 0.50 of the majority class (diet class)</font>"
   ]
  },
  {
   "cell_type": "markdown",
   "metadata": {},
   "source": [
    "### Logistic Regression"
   ]
  },
  {
   "cell_type": "code",
   "execution_count": 469,
   "metadata": {},
   "outputs": [
    {
     "name": "stdout",
     "output_type": "stream",
     "text": [
      "Fitting 5 folds for each of 360 candidates, totalling 1800 fits\n"
     ]
    },
    {
     "name": "stderr",
     "output_type": "stream",
     "text": [
      "[Parallel(n_jobs=-1)]: Using backend LokyBackend with 8 concurrent workers.\n",
      "[Parallel(n_jobs=-1)]: Done  34 tasks      | elapsed:    6.3s\n",
      "[Parallel(n_jobs=-1)]: Done 184 tasks      | elapsed:    9.1s\n",
      "[Parallel(n_jobs=-1)]: Done 434 tasks      | elapsed:   15.7s\n",
      "[Parallel(n_jobs=-1)]: Done 784 tasks      | elapsed:   25.0s\n",
      "[Parallel(n_jobs=-1)]: Done 1234 tasks      | elapsed:   37.4s\n",
      "[Parallel(n_jobs=-1)]: Done 1784 tasks      | elapsed:   53.4s\n",
      "[Parallel(n_jobs=-1)]: Done 1800 out of 1800 | elapsed:   53.8s finished\n"
     ]
    },
    {
     "name": "stdout",
     "output_type": "stream",
     "text": [
      "======== LogisticRegression + CountVectorizer with Hyperparameters Tuning =================\n",
      "\n",
      "Best parameters  :  {'cvec__max_df': 7, 'cvec__max_features': 5000, 'lr__C': 0.01, 'lr__penalty': 'l2', 'lr__solver': 'liblinear'}\n",
      "Best CV  score   :  0.694119794259167\n",
      "Training score   : 0.8499184339314845\n",
      "Validation score : 0.6937086092715232\n",
      "\n"
     ]
    }
   ],
   "source": [
    "#Tuning Hyperparameters to find the best params using GridSearch\n",
    "cveclr_pipe = Pipeline([('cvec', CountVectorizer(stop_words=common_words)), ('lr', LogisticRegression())])\n",
    "cveclr_param_grid = {'cvec__max_features': [1000, 3000, 5000],\n",
    "                     'cvec__max_df': [1, 3, 5, 7],\n",
    "                     'lr__solver': ['newton-cg', 'lbfgs', 'liblinear'],\n",
    "                     'lr__C':[100,10,1.0, 0.1, 0.01],\n",
    "                     'lr__penalty':['l1', 'l2']}\n",
    "    \n",
    "cveclr_gs = GridSearchCV(cveclr_pipe, param_grid=cveclr_param_grid, cv=cv, n_jobs=n_jobs, verbose=1)\n",
    "\n",
    "cveclr_pred, cveclr_proba = classifiermodel(X_train, y_train, X_val, y_val, \n",
    "                            model=cveclr_gs, gs=True, \n",
    "                            title='LogisticRegression + CountVectorizer with Hyperparameters Tuning')"
   ]
  },
  {
   "cell_type": "code",
   "execution_count": 496,
   "metadata": {},
   "outputs": [
    {
     "data": {
      "text/html": [
       "<div>\n",
       "<style scoped>\n",
       "    .dataframe tbody tr th:only-of-type {\n",
       "        vertical-align: middle;\n",
       "    }\n",
       "\n",
       "    .dataframe tbody tr th {\n",
       "        vertical-align: top;\n",
       "    }\n",
       "\n",
       "    .dataframe thead th {\n",
       "        text-align: right;\n",
       "    }\n",
       "</style>\n",
       "<table border=\"1\" class=\"dataframe\">\n",
       "  <thead>\n",
       "    <tr style=\"text-align: right;\">\n",
       "      <th></th>\n",
       "      <th>CountVec + LogReg</th>\n",
       "    </tr>\n",
       "  </thead>\n",
       "  <tbody>\n",
       "    <tr>\n",
       "      <th>Accuracy</th>\n",
       "      <td>0.694</td>\n",
       "    </tr>\n",
       "    <tr>\n",
       "      <th>Misclassification Rate</th>\n",
       "      <td>0.306</td>\n",
       "    </tr>\n",
       "    <tr>\n",
       "      <th>Sensitivity (Recall)</th>\n",
       "      <td>0.779</td>\n",
       "    </tr>\n",
       "    <tr>\n",
       "      <th>Specificity</th>\n",
       "      <td>0.608</td>\n",
       "    </tr>\n",
       "    <tr>\n",
       "      <th>Precision</th>\n",
       "      <td>0.667</td>\n",
       "    </tr>\n",
       "    <tr>\n",
       "      <th>True Positive</th>\n",
       "      <td>236.000</td>\n",
       "    </tr>\n",
       "    <tr>\n",
       "      <th>False Positive</th>\n",
       "      <td>118.000</td>\n",
       "    </tr>\n",
       "    <tr>\n",
       "      <th>False Negative</th>\n",
       "      <td>67.000</td>\n",
       "    </tr>\n",
       "    <tr>\n",
       "      <th>True Negative</th>\n",
       "      <td>183.000</td>\n",
       "    </tr>\n",
       "    <tr>\n",
       "      <th>F1-Score</th>\n",
       "      <td>0.718</td>\n",
       "    </tr>\n",
       "    <tr>\n",
       "      <th>AUC Score</th>\n",
       "      <td>0.772</td>\n",
       "    </tr>\n",
       "    <tr>\n",
       "      <th>Matthews Correlation</th>\n",
       "      <td>0.393</td>\n",
       "    </tr>\n",
       "  </tbody>\n",
       "</table>\n",
       "</div>"
      ],
      "text/plain": [
       "                        CountVec + LogReg\n",
       "Accuracy                            0.694\n",
       "Misclassification Rate              0.306\n",
       "Sensitivity (Recall)                0.779\n",
       "Specificity                         0.608\n",
       "Precision                           0.667\n",
       "True Positive                     236.000\n",
       "False Positive                    118.000\n",
       "False Negative                     67.000\n",
       "True Negative                     183.000\n",
       "F1-Score                            0.718\n",
       "AUC Score                           0.772\n",
       "Matthews Correlation                0.393"
      ]
     },
     "execution_count": 496,
     "metadata": {},
     "output_type": "execute_result"
    }
   ],
   "source": [
    "cveclr_m = model_metrics(y_val, cveclr_pred, cveclr_proba, title='CountVec + LogReg', labels=labels)\n",
    "cveclr_m"
   ]
  },
  {
   "cell_type": "code",
   "execution_count": 480,
   "metadata": {
    "scrolled": true
   },
   "outputs": [
    {
     "name": "stdout",
     "output_type": "stream",
     "text": [
      "Fitting 5 folds for each of 720 candidates, totalling 3600 fits\n"
     ]
    },
    {
     "name": "stderr",
     "output_type": "stream",
     "text": [
      "[Parallel(n_jobs=-1)]: Using backend LokyBackend with 8 concurrent workers.\n",
      "[Parallel(n_jobs=-1)]: Done  34 tasks      | elapsed:    5.5s\n",
      "[Parallel(n_jobs=-1)]: Done 184 tasks      | elapsed:   13.1s\n",
      "[Parallel(n_jobs=-1)]: Done 434 tasks      | elapsed:   29.9s\n",
      "[Parallel(n_jobs=-1)]: Done 784 tasks      | elapsed:   53.5s\n",
      "[Parallel(n_jobs=-1)]: Done 1234 tasks      | elapsed:  1.5min\n",
      "[Parallel(n_jobs=-1)]: Done 1784 tasks      | elapsed:  2.0min\n",
      "[Parallel(n_jobs=-1)]: Done 2434 tasks      | elapsed:  2.7min\n",
      "[Parallel(n_jobs=-1)]: Done 3184 tasks      | elapsed:  3.4min\n",
      "[Parallel(n_jobs=-1)]: Done 3600 out of 3600 | elapsed:  3.9min finished\n"
     ]
    },
    {
     "name": "stdout",
     "output_type": "stream",
     "text": [
      "======== LogisticRegression +  TF-IDF with Hyperparameters Tuning =================\n",
      "\n",
      "Best parameters  :  {'lr__C': 1.0, 'lr__penalty': 'l2', 'lr__solver': 'liblinear', 'tvec__max_df': 0.3, 'tvec__max_features': 3000, 'tvec__ngram_range': (1, 2)}\n",
      "Best CV  score   :  0.8825286212045794\n",
      "Training score   : 0.9543230016313213\n",
      "Validation score : 0.8509933774834437\n",
      "\n"
     ]
    }
   ],
   "source": [
    "#Tuning Hyperparameters to find the best params using GridSearch\n",
    "tveclr_pipe = Pipeline([('tvec', TfidfVectorizer(stop_words=common_words)), ('lr', LogisticRegression())])\n",
    "\n",
    "tveclr_param_grid = {'tvec__ngram_range':[(1,2), (2,2)],\n",
    "                     'tvec__max_features': [1000, 3000, 5000],\n",
    "                     'tvec__max_df': [0.3, 0.4, 0.5, 0.7],\n",
    "                     'lr__solver': ['newton-cg', 'lbfgs', 'liblinear'],\n",
    "                     'lr__C':[100,10,1.0, 0.1, 0.01],\n",
    "                     'lr__penalty':['l1', 'l2']}\n",
    "    \n",
    "tveclr_gs = GridSearchCV(tveclr_pipe, param_grid=tveclr_param_grid, cv=cv, n_jobs=n_jobs, verbose=1)\n",
    "\n",
    "\n",
    "tveclr_pred, tveclr_proba = classifiermodel(X_train, y_train, X_val, y_val, \n",
    "                            model=tveclr_gs, gs=True, \n",
    "                            title='LogisticRegression +  TF-IDF with Hyperparameters Tuning')"
   ]
  },
  {
   "cell_type": "code",
   "execution_count": 497,
   "metadata": {},
   "outputs": [
    {
     "data": {
      "text/html": [
       "<div>\n",
       "<style scoped>\n",
       "    .dataframe tbody tr th:only-of-type {\n",
       "        vertical-align: middle;\n",
       "    }\n",
       "\n",
       "    .dataframe tbody tr th {\n",
       "        vertical-align: top;\n",
       "    }\n",
       "\n",
       "    .dataframe thead th {\n",
       "        text-align: right;\n",
       "    }\n",
       "</style>\n",
       "<table border=\"1\" class=\"dataframe\">\n",
       "  <thead>\n",
       "    <tr style=\"text-align: right;\">\n",
       "      <th></th>\n",
       "      <th>TFIDF + LogReg</th>\n",
       "    </tr>\n",
       "  </thead>\n",
       "  <tbody>\n",
       "    <tr>\n",
       "      <th>Accuracy</th>\n",
       "      <td>0.851</td>\n",
       "    </tr>\n",
       "    <tr>\n",
       "      <th>Misclassification Rate</th>\n",
       "      <td>0.149</td>\n",
       "    </tr>\n",
       "    <tr>\n",
       "      <th>Sensitivity (Recall)</th>\n",
       "      <td>0.825</td>\n",
       "    </tr>\n",
       "    <tr>\n",
       "      <th>Specificity</th>\n",
       "      <td>0.877</td>\n",
       "    </tr>\n",
       "    <tr>\n",
       "      <th>Precision</th>\n",
       "      <td>0.871</td>\n",
       "    </tr>\n",
       "    <tr>\n",
       "      <th>True Positive</th>\n",
       "      <td>250.000</td>\n",
       "    </tr>\n",
       "    <tr>\n",
       "      <th>False Positive</th>\n",
       "      <td>37.000</td>\n",
       "    </tr>\n",
       "    <tr>\n",
       "      <th>False Negative</th>\n",
       "      <td>53.000</td>\n",
       "    </tr>\n",
       "    <tr>\n",
       "      <th>True Negative</th>\n",
       "      <td>264.000</td>\n",
       "    </tr>\n",
       "    <tr>\n",
       "      <th>F1-Score</th>\n",
       "      <td>0.847</td>\n",
       "    </tr>\n",
       "    <tr>\n",
       "      <th>AUC Score</th>\n",
       "      <td>0.929</td>\n",
       "    </tr>\n",
       "    <tr>\n",
       "      <th>Matthews Correlation</th>\n",
       "      <td>0.703</td>\n",
       "    </tr>\n",
       "  </tbody>\n",
       "</table>\n",
       "</div>"
      ],
      "text/plain": [
       "                        TFIDF + LogReg\n",
       "Accuracy                         0.851\n",
       "Misclassification Rate           0.149\n",
       "Sensitivity (Recall)             0.825\n",
       "Specificity                      0.877\n",
       "Precision                        0.871\n",
       "True Positive                  250.000\n",
       "False Positive                  37.000\n",
       "False Negative                  53.000\n",
       "True Negative                  264.000\n",
       "F1-Score                         0.847\n",
       "AUC Score                        0.929\n",
       "Matthews Correlation             0.703"
      ]
     },
     "execution_count": 497,
     "metadata": {},
     "output_type": "execute_result"
    },
    {
     "data": {
      "image/png": "[encoded data removed]",
      "text/plain": [
       "<Figure size 1080x360 with 3 Axes>"
      ]
     },
     "metadata": {
      "needs_background": "light"
     },
     "output_type": "display_data"
    }
   ],
   "source": [
    "tveclr_m = model_metrics(y_val, tveclr_pred, tveclr_proba, cm=True, title='TFIDF + LogReg', labels=labels)\n",
    "tveclr_m"
   ]
  },
  {
   "cell_type": "markdown",
   "metadata": {},
   "source": [
    "### Multinomial Naive Bayes"
   ]
  },
  {
   "cell_type": "code",
   "execution_count": 482,
   "metadata": {},
   "outputs": [
    {
     "name": "stdout",
     "output_type": "stream",
     "text": [
      "Fitting 5 folds for each of 12 candidates, totalling 60 fits\n"
     ]
    },
    {
     "name": "stderr",
     "output_type": "stream",
     "text": [
      "[Parallel(n_jobs=-1)]: Using backend LokyBackend with 8 concurrent workers.\n"
     ]
    },
    {
     "name": "stdout",
     "output_type": "stream",
     "text": [
      "======== Naive Bayes + CountVectorizer with Hyper parameters =================\n",
      "\n",
      "Best parameters  :  {'cvec__max_df': 7, 'cvec__max_features': 5000}\n",
      "Best CV  score   :  0.7063680106188818\n",
      "Training score   : 0.863784665579119\n",
      "Validation score : 0.6903973509933775\n",
      "\n"
     ]
    },
    {
     "name": "stderr",
     "output_type": "stream",
     "text": [
      "[Parallel(n_jobs=-1)]: Done  60 out of  60 | elapsed:    0.9s finished\n"
     ]
    }
   ],
   "source": [
    "#Naive Bayes, using Multinomial with CountVectorizer and hyper parameters tuning\n",
    "cvecnb_pipe = Pipeline([('cvec', CountVectorizer(stop_words=common_words)), ('nb' , MultinomialNB())])\n",
    "cvecnb_param_grid = {'cvec__max_features': [1000, 3000, 5000],\n",
    "                     'cvec__max_df': [1, 3, 5, 7]}\n",
    "    \n",
    "cvecnb_gs = GridSearchCV(cvecnb_pipe, param_grid=cvecnb_param_grid, cv=cv, n_jobs=n_jobs,  verbose=1)\n",
    "\n",
    "cvecnb_pred, cvecnb_proba = classifiermodel(X_train, y_train, X_val, y_val, \n",
    "                            model=cvecnb_gs, gs=True, \n",
    "                            title='Naive Bayes + CountVectorizer with Hyper parameters')"
   ]
  },
  {
   "cell_type": "code",
   "execution_count": 498,
   "metadata": {},
   "outputs": [
    {
     "data": {
      "text/html": [
       "<div>\n",
       "<style scoped>\n",
       "    .dataframe tbody tr th:only-of-type {\n",
       "        vertical-align: middle;\n",
       "    }\n",
       "\n",
       "    .dataframe tbody tr th {\n",
       "        vertical-align: top;\n",
       "    }\n",
       "\n",
       "    .dataframe thead th {\n",
       "        text-align: right;\n",
       "    }\n",
       "</style>\n",
       "<table border=\"1\" class=\"dataframe\">\n",
       "  <thead>\n",
       "    <tr style=\"text-align: right;\">\n",
       "      <th></th>\n",
       "      <th>CountVec + NaiveBayes</th>\n",
       "    </tr>\n",
       "  </thead>\n",
       "  <tbody>\n",
       "    <tr>\n",
       "      <th>Accuracy</th>\n",
       "      <td>0.690</td>\n",
       "    </tr>\n",
       "    <tr>\n",
       "      <th>Misclassification Rate</th>\n",
       "      <td>0.310</td>\n",
       "    </tr>\n",
       "    <tr>\n",
       "      <th>Sensitivity (Recall)</th>\n",
       "      <td>0.752</td>\n",
       "    </tr>\n",
       "    <tr>\n",
       "      <th>Specificity</th>\n",
       "      <td>0.628</td>\n",
       "    </tr>\n",
       "    <tr>\n",
       "      <th>Precision</th>\n",
       "      <td>0.671</td>\n",
       "    </tr>\n",
       "    <tr>\n",
       "      <th>True Positive</th>\n",
       "      <td>228.000</td>\n",
       "    </tr>\n",
       "    <tr>\n",
       "      <th>False Positive</th>\n",
       "      <td>112.000</td>\n",
       "    </tr>\n",
       "    <tr>\n",
       "      <th>False Negative</th>\n",
       "      <td>75.000</td>\n",
       "    </tr>\n",
       "    <tr>\n",
       "      <th>True Negative</th>\n",
       "      <td>189.000</td>\n",
       "    </tr>\n",
       "    <tr>\n",
       "      <th>F1-Score</th>\n",
       "      <td>0.709</td>\n",
       "    </tr>\n",
       "    <tr>\n",
       "      <th>AUC Score</th>\n",
       "      <td>0.762</td>\n",
       "    </tr>\n",
       "    <tr>\n",
       "      <th>Matthews Correlation</th>\n",
       "      <td>0.383</td>\n",
       "    </tr>\n",
       "  </tbody>\n",
       "</table>\n",
       "</div>"
      ],
      "text/plain": [
       "                        CountVec + NaiveBayes\n",
       "Accuracy                                0.690\n",
       "Misclassification Rate                  0.310\n",
       "Sensitivity (Recall)                    0.752\n",
       "Specificity                             0.628\n",
       "Precision                               0.671\n",
       "True Positive                         228.000\n",
       "False Positive                        112.000\n",
       "False Negative                         75.000\n",
       "True Negative                         189.000\n",
       "F1-Score                                0.709\n",
       "AUC Score                               0.762\n",
       "Matthews Correlation                    0.383"
      ]
     },
     "execution_count": 498,
     "metadata": {},
     "output_type": "execute_result"
    },
    {
     "data": {
      "image/png": "[encoded data removed]",
      "text/plain": [
       "<Figure size 1080x360 with 3 Axes>"
      ]
     },
     "metadata": {
      "needs_background": "light"
     },
     "output_type": "display_data"
    }
   ],
   "source": [
    "cvecnb_m = model_metrics(y_val, cvecnb_pred, cvecnb_proba, cm=True, title='CountVec + NaiveBayes', labels=labels)\n",
    "cvecnb_m"
   ]
  },
  {
   "cell_type": "code",
   "execution_count": 500,
   "metadata": {
    "scrolled": true
   },
   "outputs": [
    {
     "name": "stdout",
     "output_type": "stream",
     "text": [
      "Fitting 5 folds for each of 24 candidates, totalling 120 fits\n"
     ]
    },
    {
     "name": "stderr",
     "output_type": "stream",
     "text": [
      "[Parallel(n_jobs=-1)]: Using backend LokyBackend with 8 concurrent workers.\n",
      "[Parallel(n_jobs=-1)]: Done  34 tasks      | elapsed:    6.1s\n",
      "[Parallel(n_jobs=-1)]: Done 120 out of 120 | elapsed:   11.2s finished\n"
     ]
    },
    {
     "name": "stdout",
     "output_type": "stream",
     "text": [
      "======== Naive Bayes+  TF-IDF with Hyperparameters Tuning =================\n",
      "\n",
      "Best parameters  :  {'tvec__max_df': 0.3, 'tvec__max_features': 3000, 'tvec__ngram_range': (1, 2)}\n",
      "Best CV  score   :  0.8849776007964161\n",
      "Training score   : 0.9518760195758564\n",
      "Validation score : 0.8443708609271523\n",
      "\n"
     ]
    }
   ],
   "source": [
    "#NB with TF-IDF with hyper parameters\n",
    "tvecnb_pipe = Pipeline([('tvec', TfidfVectorizer(stop_words=common_words)), ('nb' , MultinomialNB())])\n",
    "\n",
    "tvecnb_param_grid = {'tvec__ngram_range':[(1,2), (2,2)],\n",
    "                     'tvec__max_features': [1000, 3000, 5000],\n",
    "                     'tvec__max_df': [0.3, 0.4, 0.5, 0.7]}\n",
    "    \n",
    "tvecnb_gs = GridSearchCV(tvecnb_pipe, param_grid=tvecnb_param_grid, n_jobs=-1, verbose=1)\n",
    "\n",
    "tvecnb_pred, tvecnb_proba  = classifiermodel(X_train, y_train, X_val, y_val, \n",
    "                            model=tvecnb_gs, gs=True, \n",
    "                            title='Naive Bayes+  TF-IDF with Hyperparameters Tuning')"
   ]
  },
  {
   "cell_type": "code",
   "execution_count": 501,
   "metadata": {},
   "outputs": [
    {
     "data": {
      "text/html": [
       "<div>\n",
       "<style scoped>\n",
       "    .dataframe tbody tr th:only-of-type {\n",
       "        vertical-align: middle;\n",
       "    }\n",
       "\n",
       "    .dataframe tbody tr th {\n",
       "        vertical-align: top;\n",
       "    }\n",
       "\n",
       "    .dataframe thead th {\n",
       "        text-align: right;\n",
       "    }\n",
       "</style>\n",
       "<table border=\"1\" class=\"dataframe\">\n",
       "  <thead>\n",
       "    <tr style=\"text-align: right;\">\n",
       "      <th></th>\n",
       "      <th>TFIDF + NaiveBayes</th>\n",
       "    </tr>\n",
       "  </thead>\n",
       "  <tbody>\n",
       "    <tr>\n",
       "      <th>Accuracy</th>\n",
       "      <td>0.844</td>\n",
       "    </tr>\n",
       "    <tr>\n",
       "      <th>Misclassification Rate</th>\n",
       "      <td>0.156</td>\n",
       "    </tr>\n",
       "    <tr>\n",
       "      <th>Sensitivity (Recall)</th>\n",
       "      <td>0.802</td>\n",
       "    </tr>\n",
       "    <tr>\n",
       "      <th>Specificity</th>\n",
       "      <td>0.887</td>\n",
       "    </tr>\n",
       "    <tr>\n",
       "      <th>Precision</th>\n",
       "      <td>0.877</td>\n",
       "    </tr>\n",
       "    <tr>\n",
       "      <th>True Positive</th>\n",
       "      <td>243.000</td>\n",
       "    </tr>\n",
       "    <tr>\n",
       "      <th>False Positive</th>\n",
       "      <td>34.000</td>\n",
       "    </tr>\n",
       "    <tr>\n",
       "      <th>False Negative</th>\n",
       "      <td>60.000</td>\n",
       "    </tr>\n",
       "    <tr>\n",
       "      <th>True Negative</th>\n",
       "      <td>267.000</td>\n",
       "    </tr>\n",
       "    <tr>\n",
       "      <th>F1-Score</th>\n",
       "      <td>0.838</td>\n",
       "    </tr>\n",
       "    <tr>\n",
       "      <th>AUC Score</th>\n",
       "      <td>0.933</td>\n",
       "    </tr>\n",
       "    <tr>\n",
       "      <th>Matthews Correlation</th>\n",
       "      <td>0.691</td>\n",
       "    </tr>\n",
       "  </tbody>\n",
       "</table>\n",
       "</div>"
      ],
      "text/plain": [
       "                        TFIDF + NaiveBayes\n",
       "Accuracy                             0.844\n",
       "Misclassification Rate               0.156\n",
       "Sensitivity (Recall)                 0.802\n",
       "Specificity                          0.887\n",
       "Precision                            0.877\n",
       "True Positive                      243.000\n",
       "False Positive                      34.000\n",
       "False Negative                      60.000\n",
       "True Negative                      267.000\n",
       "F1-Score                             0.838\n",
       "AUC Score                            0.933\n",
       "Matthews Correlation                 0.691"
      ]
     },
     "execution_count": 501,
     "metadata": {},
     "output_type": "execute_result"
    },
    {
     "data": {
      "image/png": "[encoded data removed]",
      "text/plain": [
       "<Figure size 1080x360 with 3 Axes>"
      ]
     },
     "metadata": {
      "needs_background": "light"
     },
     "output_type": "display_data"
    }
   ],
   "source": [
    "tvecnb_m = model_metrics(y_val, tvecnb_pred, tvecnb_proba, cm=True, title='TFIDF + NaiveBayes', labels=labels)\n",
    "tvecnb_m"
   ]
  },
  {
   "cell_type": "markdown",
   "metadata": {},
   "source": [
    "### KNN"
   ]
  },
  {
   "cell_type": "code",
   "execution_count": 502,
   "metadata": {},
   "outputs": [
    {
     "name": "stdout",
     "output_type": "stream",
     "text": [
      "Fitting 5 folds for each of 72 candidates, totalling 360 fits\n"
     ]
    },
    {
     "name": "stderr",
     "output_type": "stream",
     "text": [
      "[Parallel(n_jobs=-1)]: Using backend LokyBackend with 8 concurrent workers.\n",
      "[Parallel(n_jobs=-1)]: Done  34 tasks      | elapsed:    1.0s\n",
      "[Parallel(n_jobs=-1)]: Done 184 tasks      | elapsed:    4.6s\n",
      "[Parallel(n_jobs=-1)]: Done 360 out of 360 | elapsed:    8.9s finished\n"
     ]
    },
    {
     "name": "stdout",
     "output_type": "stream",
     "text": [
      "======== KNeighborsClassifier + CountVectorizer with Hyper parameters =================\n",
      "\n",
      "Best parameters  :  {'cvec__max_df': 7, 'cvec__max_features': 1000, 'knn__n_neighbors': 7}\n",
      "Best CV  score   :  0.5587323709971794\n",
      "Training score   : 0.6566068515497553\n",
      "Validation score : 0.5794701986754967\n",
      "\n"
     ]
    }
   ],
   "source": [
    "#KNN with CountVectorizer and default parameters\n",
    "cvecknn_pipe = Pipeline([('cvec', CountVectorizer(stop_words=common_words)), ('knn' , KNeighborsClassifier())])\n",
    "cvecknn_param_grid = {'cvec__max_features': [1000, 3000, 5000],\n",
    "                     'cvec__max_df': [1, 3, 5, 7],\n",
    "                     'knn__n_neighbors': [3,5,7,9, 11, 13]\n",
    "                     }\n",
    "    \n",
    "cvecknn_gs = GridSearchCV(cvecknn_pipe, param_grid=cvecknn_param_grid, n_jobs=-1, verbose=1)\n",
    "\n",
    "cvecknn_pred, cvecknn_proba = classifiermodel(X_train, y_train, X_val, y_val, \n",
    "                            model=cvecknn_gs, gs=True, \n",
    "                            title='KNeighborsClassifier + CountVectorizer with Hyper parameters')"
   ]
  },
  {
   "cell_type": "code",
   "execution_count": 507,
   "metadata": {},
   "outputs": [
    {
     "data": {
      "text/html": [
       "<div>\n",
       "<style scoped>\n",
       "    .dataframe tbody tr th:only-of-type {\n",
       "        vertical-align: middle;\n",
       "    }\n",
       "\n",
       "    .dataframe tbody tr th {\n",
       "        vertical-align: top;\n",
       "    }\n",
       "\n",
       "    .dataframe thead th {\n",
       "        text-align: right;\n",
       "    }\n",
       "</style>\n",
       "<table border=\"1\" class=\"dataframe\">\n",
       "  <thead>\n",
       "    <tr style=\"text-align: right;\">\n",
       "      <th></th>\n",
       "      <th>CountVec + KNN</th>\n",
       "    </tr>\n",
       "  </thead>\n",
       "  <tbody>\n",
       "    <tr>\n",
       "      <th>Accuracy</th>\n",
       "      <td>0.579</td>\n",
       "    </tr>\n",
       "    <tr>\n",
       "      <th>Misclassification Rate</th>\n",
       "      <td>0.421</td>\n",
       "    </tr>\n",
       "    <tr>\n",
       "      <th>Sensitivity (Recall)</th>\n",
       "      <td>0.785</td>\n",
       "    </tr>\n",
       "    <tr>\n",
       "      <th>Specificity</th>\n",
       "      <td>0.372</td>\n",
       "    </tr>\n",
       "    <tr>\n",
       "      <th>Precision</th>\n",
       "      <td>0.557</td>\n",
       "    </tr>\n",
       "    <tr>\n",
       "      <th>True Positive</th>\n",
       "      <td>238.000</td>\n",
       "    </tr>\n",
       "    <tr>\n",
       "      <th>False Positive</th>\n",
       "      <td>189.000</td>\n",
       "    </tr>\n",
       "    <tr>\n",
       "      <th>False Negative</th>\n",
       "      <td>65.000</td>\n",
       "    </tr>\n",
       "    <tr>\n",
       "      <th>True Negative</th>\n",
       "      <td>112.000</td>\n",
       "    </tr>\n",
       "    <tr>\n",
       "      <th>F1-Score</th>\n",
       "      <td>0.652</td>\n",
       "    </tr>\n",
       "    <tr>\n",
       "      <th>AUC Score</th>\n",
       "      <td>0.602</td>\n",
       "    </tr>\n",
       "    <tr>\n",
       "      <th>Matthews Correlation</th>\n",
       "      <td>0.173</td>\n",
       "    </tr>\n",
       "  </tbody>\n",
       "</table>\n",
       "</div>"
      ],
      "text/plain": [
       "                        CountVec + KNN\n",
       "Accuracy                         0.579\n",
       "Misclassification Rate           0.421\n",
       "Sensitivity (Recall)             0.785\n",
       "Specificity                      0.372\n",
       "Precision                        0.557\n",
       "True Positive                  238.000\n",
       "False Positive                 189.000\n",
       "False Negative                  65.000\n",
       "True Negative                  112.000\n",
       "F1-Score                         0.652\n",
       "AUC Score                        0.602\n",
       "Matthews Correlation             0.173"
      ]
     },
     "execution_count": 507,
     "metadata": {},
     "output_type": "execute_result"
    },
    {
     "data": {
      "image/png": "[encoded data removed]",
      "text/plain": [
       "<Figure size 1080x360 with 3 Axes>"
      ]
     },
     "metadata": {
      "needs_background": "light"
     },
     "output_type": "display_data"
    }
   ],
   "source": [
    "cvecknn_m = model_metrics(y_val, cvecknn_pred, cvecknn_proba, cm=True, title='CountVec + KNN', labels=labels)\n",
    "cvecknn_m"
   ]
  },
  {
   "cell_type": "code",
   "execution_count": 504,
   "metadata": {},
   "outputs": [
    {
     "name": "stdout",
     "output_type": "stream",
     "text": [
      "Fitting 5 folds for each of 144 candidates, totalling 720 fits\n"
     ]
    },
    {
     "name": "stderr",
     "output_type": "stream",
     "text": [
      "[Parallel(n_jobs=-1)]: Using backend LokyBackend with 8 concurrent workers.\n",
      "[Parallel(n_jobs=-1)]: Done  34 tasks      | elapsed:    2.0s\n",
      "[Parallel(n_jobs=-1)]: Done 184 tasks      | elapsed:   11.2s\n",
      "[Parallel(n_jobs=-1)]: Done 434 tasks      | elapsed:   27.7s\n",
      "[Parallel(n_jobs=-1)]: Done 720 out of 720 | elapsed:   46.3s finished\n"
     ]
    },
    {
     "name": "stdout",
     "output_type": "stream",
     "text": [
      "======== KNeighborsClassifier + TF-IDF with Hyper parameters =================\n",
      "\n",
      "Best parameters  :  {'knn__n_neighbors': 13, 'tvec__max_df': 0.3, 'tvec__max_features': 5000, 'tvec__ngram_range': (1, 2)}\n",
      "Best CV  score   :  0.8132171893147502\n",
      "Training score   : 0.8433931484502447\n",
      "Validation score : 0.7996688741721855\n",
      "\n"
     ]
    }
   ],
   "source": [
    "#KNN with TF-IDF with hyper parameters\n",
    "tvecknn_pipe = Pipeline([('tvec', TfidfVectorizer(stop_words=common_words)), ('knn' , KNeighborsClassifier())])\n",
    "tvecknn_param_grid = {'tvec__ngram_range':[(1,2), (2,2)],\n",
    "                     'tvec__max_features': [1000, 3000, 5000],\n",
    "                     'tvec__max_df': [0.3, 0.4, 0.5, 0.7],\n",
    "                     'knn__n_neighbors': [3,5,7,9, 11, 13]}\n",
    "\n",
    "tvecknn_gs = GridSearchCV(tvecknn_pipe, param_grid=tvecknn_param_grid, n_jobs=-1, verbose=1)\n",
    "\n",
    "tvecknn_pred, tvecknn_proba  = classifiermodel(X_train, y_train, X_val, y_val, \n",
    "                            model=tvecknn_gs, gs=True, \n",
    "                            title='KNeighborsClassifier + TF-IDF with Hyper parameters')"
   ]
  },
  {
   "cell_type": "code",
   "execution_count": 508,
   "metadata": {},
   "outputs": [
    {
     "data": {
      "text/html": [
       "<div>\n",
       "<style scoped>\n",
       "    .dataframe tbody tr th:only-of-type {\n",
       "        vertical-align: middle;\n",
       "    }\n",
       "\n",
       "    .dataframe tbody tr th {\n",
       "        vertical-align: top;\n",
       "    }\n",
       "\n",
       "    .dataframe thead th {\n",
       "        text-align: right;\n",
       "    }\n",
       "</style>\n",
       "<table border=\"1\" class=\"dataframe\">\n",
       "  <thead>\n",
       "    <tr style=\"text-align: right;\">\n",
       "      <th></th>\n",
       "      <th>TFIDF + KNN</th>\n",
       "    </tr>\n",
       "  </thead>\n",
       "  <tbody>\n",
       "    <tr>\n",
       "      <th>Accuracy</th>\n",
       "      <td>0.800</td>\n",
       "    </tr>\n",
       "    <tr>\n",
       "      <th>Misclassification Rate</th>\n",
       "      <td>0.200</td>\n",
       "    </tr>\n",
       "    <tr>\n",
       "      <th>Sensitivity (Recall)</th>\n",
       "      <td>0.917</td>\n",
       "    </tr>\n",
       "    <tr>\n",
       "      <th>Specificity</th>\n",
       "      <td>0.681</td>\n",
       "    </tr>\n",
       "    <tr>\n",
       "      <th>Precision</th>\n",
       "      <td>0.743</td>\n",
       "    </tr>\n",
       "    <tr>\n",
       "      <th>True Positive</th>\n",
       "      <td>278.000</td>\n",
       "    </tr>\n",
       "    <tr>\n",
       "      <th>False Positive</th>\n",
       "      <td>96.000</td>\n",
       "    </tr>\n",
       "    <tr>\n",
       "      <th>False Negative</th>\n",
       "      <td>25.000</td>\n",
       "    </tr>\n",
       "    <tr>\n",
       "      <th>True Negative</th>\n",
       "      <td>205.000</td>\n",
       "    </tr>\n",
       "    <tr>\n",
       "      <th>F1-Score</th>\n",
       "      <td>0.821</td>\n",
       "    </tr>\n",
       "    <tr>\n",
       "      <th>AUC Score</th>\n",
       "      <td>0.903</td>\n",
       "    </tr>\n",
       "    <tr>\n",
       "      <th>Matthews Correlation</th>\n",
       "      <td>0.616</td>\n",
       "    </tr>\n",
       "  </tbody>\n",
       "</table>\n",
       "</div>"
      ],
      "text/plain": [
       "                        TFIDF + KNN\n",
       "Accuracy                      0.800\n",
       "Misclassification Rate        0.200\n",
       "Sensitivity (Recall)          0.917\n",
       "Specificity                   0.681\n",
       "Precision                     0.743\n",
       "True Positive               278.000\n",
       "False Positive               96.000\n",
       "False Negative               25.000\n",
       "True Negative               205.000\n",
       "F1-Score                      0.821\n",
       "AUC Score                     0.903\n",
       "Matthews Correlation          0.616"
      ]
     },
     "execution_count": 508,
     "metadata": {},
     "output_type": "execute_result"
    },
    {
     "data": {
      "image/png": "[encoded data removed]",
      "text/plain": [
       "<Figure size 1080x360 with 3 Axes>"
      ]
     },
     "metadata": {
      "needs_background": "light"
     },
     "output_type": "display_data"
    }
   ],
   "source": [
    "tvecknn_m = model_metrics(y_val, tvecknn_pred, tvecknn_proba, cm=True, title='TFIDF + KNN', labels=labels)\n",
    "tvecknn_m"
   ]
  },
  {
   "cell_type": "markdown",
   "metadata": {},
   "source": [
    "### Support Vector Machines"
   ]
  },
  {
   "cell_type": "code",
   "execution_count": 505,
   "metadata": {
    "scrolled": false
   },
   "outputs": [
    {
     "name": "stdout",
     "output_type": "stream",
     "text": [
      "Fitting 5 folds for each of 324 candidates, totalling 1620 fits\n"
     ]
    },
    {
     "name": "stderr",
     "output_type": "stream",
     "text": [
      "[Parallel(n_jobs=-1)]: Using backend LokyBackend with 8 concurrent workers.\n",
      "[Parallel(n_jobs=-1)]: Done  34 tasks      | elapsed:    2.4s\n",
      "[Parallel(n_jobs=-1)]: Done 184 tasks      | elapsed:   12.9s\n",
      "[Parallel(n_jobs=-1)]: Done 434 tasks      | elapsed:   33.2s\n",
      "[Parallel(n_jobs=-1)]: Done 784 tasks      | elapsed:  1.1min\n",
      "[Parallel(n_jobs=-1)]: Done 1234 tasks      | elapsed:  1.8min\n",
      "[Parallel(n_jobs=-1)]: Done 1620 out of 1620 | elapsed:  2.5min finished\n"
     ]
    },
    {
     "name": "stdout",
     "output_type": "stream",
     "text": [
      "======== SVC + CountVectorizer with Hyper parameters =================\n",
      "\n",
      "Best parameters  :  {'cvec__max_df': 7, 'cvec__max_features': 5000, 'svm__C': 3.0, 'svm__degree': 3, 'svm__kernel': 'rbf'}\n",
      "Best CV  score   :  0.6745345943255351\n",
      "Training score   : 0.9061990212071778\n",
      "Validation score : 0.6539735099337748\n",
      "\n"
     ]
    }
   ],
   "source": [
    "#Svm with CountVectorizer and hyper parameters\n",
    "cvecsvm_pipe = Pipeline([('cvec', CountVectorizer(stop_words=common_words)), ('svm' , SVC(probability=True))])\n",
    "cvecsvm_param_grid = {'cvec__max_features': [1000, 3000, 5000],\n",
    "                      'cvec__max_df': [1, 3, 5, 7],\n",
    "                      'svm__C': [1.0, 2.0, 3.0],\n",
    "                      'svm__kernel': ['rbf', 'linear', 'poly'],\n",
    "                      'svm__degree': [3,4,5]}\n",
    "    \n",
    "cvecsvm_gs = GridSearchCV(cvecsvm_pipe, param_grid=cvecsvm_param_grid, n_jobs=-1, verbose=1)\n",
    "\n",
    "cvecsvm_pred, cvecsvm_proba = classifiermodel(X_train, y_train, X_val, y_val, \n",
    "                            model=cvecsvm_gs, gs=True, \n",
    "                            title='SVC + CountVectorizer with Hyper parameters')"
   ]
  },
  {
   "cell_type": "code",
   "execution_count": 509,
   "metadata": {},
   "outputs": [
    {
     "data": {
      "text/html": [
       "<div>\n",
       "<style scoped>\n",
       "    .dataframe tbody tr th:only-of-type {\n",
       "        vertical-align: middle;\n",
       "    }\n",
       "\n",
       "    .dataframe tbody tr th {\n",
       "        vertical-align: top;\n",
       "    }\n",
       "\n",
       "    .dataframe thead th {\n",
       "        text-align: right;\n",
       "    }\n",
       "</style>\n",
       "<table border=\"1\" class=\"dataframe\">\n",
       "  <thead>\n",
       "    <tr style=\"text-align: right;\">\n",
       "      <th></th>\n",
       "      <th>CountVec + SVC</th>\n",
       "    </tr>\n",
       "  </thead>\n",
       "  <tbody>\n",
       "    <tr>\n",
       "      <th>Accuracy</th>\n",
       "      <td>0.654</td>\n",
       "    </tr>\n",
       "    <tr>\n",
       "      <th>Misclassification Rate</th>\n",
       "      <td>0.346</td>\n",
       "    </tr>\n",
       "    <tr>\n",
       "      <th>Sensitivity (Recall)</th>\n",
       "      <td>0.548</td>\n",
       "    </tr>\n",
       "    <tr>\n",
       "      <th>Specificity</th>\n",
       "      <td>0.761</td>\n",
       "    </tr>\n",
       "    <tr>\n",
       "      <th>Precision</th>\n",
       "      <td>0.697</td>\n",
       "    </tr>\n",
       "    <tr>\n",
       "      <th>True Positive</th>\n",
       "      <td>166.000</td>\n",
       "    </tr>\n",
       "    <tr>\n",
       "      <th>False Positive</th>\n",
       "      <td>72.000</td>\n",
       "    </tr>\n",
       "    <tr>\n",
       "      <th>False Negative</th>\n",
       "      <td>137.000</td>\n",
       "    </tr>\n",
       "    <tr>\n",
       "      <th>True Negative</th>\n",
       "      <td>229.000</td>\n",
       "    </tr>\n",
       "    <tr>\n",
       "      <th>F1-Score</th>\n",
       "      <td>0.614</td>\n",
       "    </tr>\n",
       "    <tr>\n",
       "      <th>AUC Score</th>\n",
       "      <td>0.729</td>\n",
       "    </tr>\n",
       "    <tr>\n",
       "      <th>Matthews Correlation</th>\n",
       "      <td>0.316</td>\n",
       "    </tr>\n",
       "  </tbody>\n",
       "</table>\n",
       "</div>"
      ],
      "text/plain": [
       "                        CountVec + SVC\n",
       "Accuracy                         0.654\n",
       "Misclassification Rate           0.346\n",
       "Sensitivity (Recall)             0.548\n",
       "Specificity                      0.761\n",
       "Precision                        0.697\n",
       "True Positive                  166.000\n",
       "False Positive                  72.000\n",
       "False Negative                 137.000\n",
       "True Negative                  229.000\n",
       "F1-Score                         0.614\n",
       "AUC Score                        0.729\n",
       "Matthews Correlation             0.316"
      ]
     },
     "execution_count": 509,
     "metadata": {},
     "output_type": "execute_result"
    },
    {
     "data": {
      "image/png": "[encoded data removed]",
      "text/plain": [
       "<Figure size 1080x360 with 3 Axes>"
      ]
     },
     "metadata": {
      "needs_background": "light"
     },
     "output_type": "display_data"
    }
   ],
   "source": [
    "cvecsvm_m = model_metrics(y_val, cvecsvm_pred, cvecsvm_proba, cm=True, title='CountVec + SVC', labels=labels)\n",
    "cvecsvm_m"
   ]
  },
  {
   "cell_type": "code",
   "execution_count": 506,
   "metadata": {
    "scrolled": true
   },
   "outputs": [
    {
     "name": "stdout",
     "output_type": "stream",
     "text": [
      "Fitting 5 folds for each of 648 candidates, totalling 3240 fits\n"
     ]
    },
    {
     "name": "stderr",
     "output_type": "stream",
     "text": [
      "[Parallel(n_jobs=-1)]: Using backend LokyBackend with 8 concurrent workers.\n",
      "[Parallel(n_jobs=-1)]: Done  34 tasks      | elapsed:   10.4s\n",
      "[Parallel(n_jobs=-1)]: Done 184 tasks      | elapsed:   48.7s\n",
      "[Parallel(n_jobs=-1)]: Done 434 tasks      | elapsed:  2.0min\n",
      "[Parallel(n_jobs=-1)]: Done 784 tasks      | elapsed:  3.5min\n",
      "[Parallel(n_jobs=-1)]: Done 1234 tasks      | elapsed:  5.6min\n",
      "[Parallel(n_jobs=-1)]: Done 1784 tasks      | elapsed:  8.2min\n",
      "[Parallel(n_jobs=-1)]: Done 2434 tasks      | elapsed: 11.2min\n",
      "[Parallel(n_jobs=-1)]: Done 3184 tasks      | elapsed: 14.9min\n",
      "[Parallel(n_jobs=-1)]: Done 3240 out of 3240 | elapsed: 15.2min finished\n"
     ]
    },
    {
     "name": "stdout",
     "output_type": "stream",
     "text": [
      "======== SVC + TF-IDF with Hyper parameters =================\n",
      "\n",
      "Best parameters  :  {'svm__C': 3.0, 'svm__degree': 3, 'svm__kernel': 'rbf', 'tvec__max_df': 0.3, 'tvec__max_features': 5000, 'tvec__ngram_range': (1, 2)}\n",
      "Best CV  score   :  0.8768176538908247\n",
      "Training score   : 0.99836867862969\n",
      "Validation score : 0.8443708609271523\n",
      "\n"
     ]
    }
   ],
   "source": [
    "#SVM with TF-IDF with Hyper Parameters\n",
    "tvecsvm_pipe = Pipeline([('tvec', TfidfVectorizer(stop_words=common_words)), ('svm' , SVC(probability=True))])\n",
    "\n",
    "tvecsvm_param_grid = {'tvec__ngram_range':[(1,2), (2,2)],\n",
    "                      'tvec__max_features': [1000, 3000, 5000],\n",
    "                      'tvec__max_df': [0.3, 0.4, 0.5, 0.7],\n",
    "                      'svm__C': [1.0, 2.0, 3.0],\n",
    "                      'svm__kernel': ['rbf', 'linear', 'poly'],\n",
    "                      'svm__degree': [3,4,5]}\n",
    "\n",
    "tvecsvm_gs = GridSearchCV(tvecsvm_pipe, param_grid=tvecsvm_param_grid, n_jobs=-1, verbose=1)\n",
    "\n",
    "tvecsvm_pred, tvecsvm_proba  = classifiermodel(X_train, y_train, X_val, y_val, \n",
    "                            model=tvecsvm_gs, gs=True, \n",
    "                            title='SVC + TF-IDF with Hyper parameters')"
   ]
  },
  {
   "cell_type": "code",
   "execution_count": 512,
   "metadata": {},
   "outputs": [
    {
     "data": {
      "text/html": [
       "<div>\n",
       "<style scoped>\n",
       "    .dataframe tbody tr th:only-of-type {\n",
       "        vertical-align: middle;\n",
       "    }\n",
       "\n",
       "    .dataframe tbody tr th {\n",
       "        vertical-align: top;\n",
       "    }\n",
       "\n",
       "    .dataframe thead th {\n",
       "        text-align: right;\n",
       "    }\n",
       "</style>\n",
       "<table border=\"1\" class=\"dataframe\">\n",
       "  <thead>\n",
       "    <tr style=\"text-align: right;\">\n",
       "      <th></th>\n",
       "      <th>TFIDF + SVC</th>\n",
       "    </tr>\n",
       "  </thead>\n",
       "  <tbody>\n",
       "    <tr>\n",
       "      <th>Accuracy</th>\n",
       "      <td>0.844</td>\n",
       "    </tr>\n",
       "    <tr>\n",
       "      <th>Misclassification Rate</th>\n",
       "      <td>0.156</td>\n",
       "    </tr>\n",
       "    <tr>\n",
       "      <th>Sensitivity (Recall)</th>\n",
       "      <td>0.805</td>\n",
       "    </tr>\n",
       "    <tr>\n",
       "      <th>Specificity</th>\n",
       "      <td>0.884</td>\n",
       "    </tr>\n",
       "    <tr>\n",
       "      <th>Precision</th>\n",
       "      <td>0.875</td>\n",
       "    </tr>\n",
       "    <tr>\n",
       "      <th>True Positive</th>\n",
       "      <td>244.000</td>\n",
       "    </tr>\n",
       "    <tr>\n",
       "      <th>False Positive</th>\n",
       "      <td>35.000</td>\n",
       "    </tr>\n",
       "    <tr>\n",
       "      <th>False Negative</th>\n",
       "      <td>59.000</td>\n",
       "    </tr>\n",
       "    <tr>\n",
       "      <th>True Negative</th>\n",
       "      <td>266.000</td>\n",
       "    </tr>\n",
       "    <tr>\n",
       "      <th>F1-Score</th>\n",
       "      <td>0.838</td>\n",
       "    </tr>\n",
       "    <tr>\n",
       "      <th>AUC Score</th>\n",
       "      <td>0.924</td>\n",
       "    </tr>\n",
       "    <tr>\n",
       "      <th>Matthews Correlation</th>\n",
       "      <td>0.691</td>\n",
       "    </tr>\n",
       "  </tbody>\n",
       "</table>\n",
       "</div>"
      ],
      "text/plain": [
       "                        TFIDF + SVC\n",
       "Accuracy                      0.844\n",
       "Misclassification Rate        0.156\n",
       "Sensitivity (Recall)          0.805\n",
       "Specificity                   0.884\n",
       "Precision                     0.875\n",
       "True Positive               244.000\n",
       "False Positive               35.000\n",
       "False Negative               59.000\n",
       "True Negative               266.000\n",
       "F1-Score                      0.838\n",
       "AUC Score                     0.924\n",
       "Matthews Correlation          0.691"
      ]
     },
     "execution_count": 512,
     "metadata": {},
     "output_type": "execute_result"
    },
    {
     "data": {
      "image/png": "[encoded data removed]",
      "text/plain": [
       "<Figure size 1080x360 with 3 Axes>"
      ]
     },
     "metadata": {
      "needs_background": "light"
     },
     "output_type": "display_data"
    }
   ],
   "source": [
    "tvecsvm_m = model_metrics(y_val, tvecsvm_pred, tvecsvm_proba, cm=True, title='TFIDF + SVC', labels=labels)\n",
    "tvecsvm_m"
   ]
  },
  {
   "cell_type": "markdown",
   "metadata": {},
   "source": [
    "## Summary of Performance of Models:"
   ]
  },
  {
   "cell_type": "code",
   "execution_count": 511,
   "metadata": {},
   "outputs": [
    {
     "data": {
      "text/html": [
       "<div>\n",
       "<style scoped>\n",
       "    .dataframe tbody tr th:only-of-type {\n",
       "        vertical-align: middle;\n",
       "    }\n",
       "\n",
       "    .dataframe tbody tr th {\n",
       "        vertical-align: top;\n",
       "    }\n",
       "\n",
       "    .dataframe thead th {\n",
       "        text-align: right;\n",
       "    }\n",
       "</style>\n",
       "<table border=\"1\" class=\"dataframe\">\n",
       "  <thead>\n",
       "    <tr style=\"text-align: right;\">\n",
       "      <th></th>\n",
       "      <th>CountVec + LogReg</th>\n",
       "      <th>TFIDF + LogReg</th>\n",
       "      <th>CountVec + NaiveBayes</th>\n",
       "      <th>TFIDF + NaiveBayes</th>\n",
       "      <th>CountVec + KNN</th>\n",
       "      <th>TFIDF + KNN</th>\n",
       "      <th>CountVec + SVC</th>\n",
       "      <th>CountVec + SVC</th>\n",
       "    </tr>\n",
       "  </thead>\n",
       "  <tbody>\n",
       "    <tr>\n",
       "      <th>Accuracy</th>\n",
       "      <td>0.694</td>\n",
       "      <td>0.851</td>\n",
       "      <td>0.690</td>\n",
       "      <td>0.844</td>\n",
       "      <td>0.579</td>\n",
       "      <td>0.800</td>\n",
       "      <td>0.654</td>\n",
       "      <td>0.844</td>\n",
       "    </tr>\n",
       "    <tr>\n",
       "      <th>Misclassification Rate</th>\n",
       "      <td>0.306</td>\n",
       "      <td>0.149</td>\n",
       "      <td>0.310</td>\n",
       "      <td>0.156</td>\n",
       "      <td>0.421</td>\n",
       "      <td>0.200</td>\n",
       "      <td>0.346</td>\n",
       "      <td>0.156</td>\n",
       "    </tr>\n",
       "    <tr>\n",
       "      <th>Sensitivity (Recall)</th>\n",
       "      <td>0.779</td>\n",
       "      <td>0.825</td>\n",
       "      <td>0.752</td>\n",
       "      <td>0.802</td>\n",
       "      <td>0.785</td>\n",
       "      <td>0.917</td>\n",
       "      <td>0.548</td>\n",
       "      <td>0.805</td>\n",
       "    </tr>\n",
       "    <tr>\n",
       "      <th>Specificity</th>\n",
       "      <td>0.608</td>\n",
       "      <td>0.877</td>\n",
       "      <td>0.628</td>\n",
       "      <td>0.887</td>\n",
       "      <td>0.372</td>\n",
       "      <td>0.681</td>\n",
       "      <td>0.761</td>\n",
       "      <td>0.884</td>\n",
       "    </tr>\n",
       "    <tr>\n",
       "      <th>Precision</th>\n",
       "      <td>0.667</td>\n",
       "      <td>0.871</td>\n",
       "      <td>0.671</td>\n",
       "      <td>0.877</td>\n",
       "      <td>0.557</td>\n",
       "      <td>0.743</td>\n",
       "      <td>0.697</td>\n",
       "      <td>0.875</td>\n",
       "    </tr>\n",
       "    <tr>\n",
       "      <th>True Positive</th>\n",
       "      <td>236.000</td>\n",
       "      <td>250.000</td>\n",
       "      <td>228.000</td>\n",
       "      <td>243.000</td>\n",
       "      <td>238.000</td>\n",
       "      <td>278.000</td>\n",
       "      <td>166.000</td>\n",
       "      <td>244.000</td>\n",
       "    </tr>\n",
       "    <tr>\n",
       "      <th>False Positive</th>\n",
       "      <td>118.000</td>\n",
       "      <td>37.000</td>\n",
       "      <td>112.000</td>\n",
       "      <td>34.000</td>\n",
       "      <td>189.000</td>\n",
       "      <td>96.000</td>\n",
       "      <td>72.000</td>\n",
       "      <td>35.000</td>\n",
       "    </tr>\n",
       "    <tr>\n",
       "      <th>False Negative</th>\n",
       "      <td>67.000</td>\n",
       "      <td>53.000</td>\n",
       "      <td>75.000</td>\n",
       "      <td>60.000</td>\n",
       "      <td>65.000</td>\n",
       "      <td>25.000</td>\n",
       "      <td>137.000</td>\n",
       "      <td>59.000</td>\n",
       "    </tr>\n",
       "    <tr>\n",
       "      <th>True Negative</th>\n",
       "      <td>183.000</td>\n",
       "      <td>264.000</td>\n",
       "      <td>189.000</td>\n",
       "      <td>267.000</td>\n",
       "      <td>112.000</td>\n",
       "      <td>205.000</td>\n",
       "      <td>229.000</td>\n",
       "      <td>266.000</td>\n",
       "    </tr>\n",
       "    <tr>\n",
       "      <th>F1-Score</th>\n",
       "      <td>0.718</td>\n",
       "      <td>0.847</td>\n",
       "      <td>0.709</td>\n",
       "      <td>0.838</td>\n",
       "      <td>0.652</td>\n",
       "      <td>0.821</td>\n",
       "      <td>0.614</td>\n",
       "      <td>0.838</td>\n",
       "    </tr>\n",
       "    <tr>\n",
       "      <th>AUC Score</th>\n",
       "      <td>0.772</td>\n",
       "      <td>0.929</td>\n",
       "      <td>0.762</td>\n",
       "      <td>0.933</td>\n",
       "      <td>0.602</td>\n",
       "      <td>0.903</td>\n",
       "      <td>0.729</td>\n",
       "      <td>0.924</td>\n",
       "    </tr>\n",
       "    <tr>\n",
       "      <th>Matthews Correlation</th>\n",
       "      <td>0.393</td>\n",
       "      <td>0.703</td>\n",
       "      <td>0.383</td>\n",
       "      <td>0.691</td>\n",
       "      <td>0.173</td>\n",
       "      <td>0.616</td>\n",
       "      <td>0.316</td>\n",
       "      <td>0.691</td>\n",
       "    </tr>\n",
       "  </tbody>\n",
       "</table>\n",
       "</div>"
      ],
      "text/plain": [
       "                        CountVec + LogReg  TFIDF + LogReg  \\\n",
       "Accuracy                            0.694           0.851   \n",
       "Misclassification Rate              0.306           0.149   \n",
       "Sensitivity (Recall)                0.779           0.825   \n",
       "Specificity                         0.608           0.877   \n",
       "Precision                           0.667           0.871   \n",
       "True Positive                     236.000         250.000   \n",
       "False Positive                    118.000          37.000   \n",
       "False Negative                     67.000          53.000   \n",
       "True Negative                     183.000         264.000   \n",
       "F1-Score                            0.718           0.847   \n",
       "AUC Score                           0.772           0.929   \n",
       "Matthews Correlation                0.393           0.703   \n",
       "\n",
       "                        CountVec + NaiveBayes  TFIDF + NaiveBayes  \\\n",
       "Accuracy                                0.690               0.844   \n",
       "Misclassification Rate                  0.310               0.156   \n",
       "Sensitivity (Recall)                    0.752               0.802   \n",
       "Specificity                             0.628               0.887   \n",
       "Precision                               0.671               0.877   \n",
       "True Positive                         228.000             243.000   \n",
       "False Positive                        112.000              34.000   \n",
       "False Negative                         75.000              60.000   \n",
       "True Negative                         189.000             267.000   \n",
       "F1-Score                                0.709               0.838   \n",
       "AUC Score                               0.762               0.933   \n",
       "Matthews Correlation                    0.383               0.691   \n",
       "\n",
       "                        CountVec + KNN  TFIDF + KNN  CountVec + SVC  \\\n",
       "Accuracy                         0.579        0.800           0.654   \n",
       "Misclassification Rate           0.421        0.200           0.346   \n",
       "Sensitivity (Recall)             0.785        0.917           0.548   \n",
       "Specificity                      0.372        0.681           0.761   \n",
       "Precision                        0.557        0.743           0.697   \n",
       "True Positive                  238.000      278.000         166.000   \n",
       "False Positive                 189.000       96.000          72.000   \n",
       "False Negative                  65.000       25.000         137.000   \n",
       "True Negative                  112.000      205.000         229.000   \n",
       "F1-Score                         0.652        0.821           0.614   \n",
       "AUC Score                        0.602        0.903           0.729   \n",
       "Matthews Correlation             0.173        0.616           0.316   \n",
       "\n",
       "                        CountVec + SVC  \n",
       "Accuracy                         0.844  \n",
       "Misclassification Rate           0.156  \n",
       "Sensitivity (Recall)             0.805  \n",
       "Specificity                      0.884  \n",
       "Precision                        0.875  \n",
       "True Positive                  244.000  \n",
       "False Positive                  35.000  \n",
       "False Negative                  59.000  \n",
       "True Negative                  266.000  \n",
       "F1-Score                         0.838  \n",
       "AUC Score                        0.924  \n",
       "Matthews Correlation             0.691  "
      ]
     },
     "execution_count": 511,
     "metadata": {},
     "output_type": "execute_result"
    }
   ],
   "source": [
    "lst_metrics = [cveclr_m, tveclr_m, cvecnb_m, tvecnb_m, cvecknn_m, tvecknn_m, cvecsvm_m, tvecsvm_m]\n",
    "combine_metrics = pd.concat((items for items in lst_metrics), axis=1, join='inner')\n",
    "combine_metrics.reset_index().rename(columns={combine_metrics.index.name:'metrics'})  \n",
    "\n",
    "combine_metrics"
   ]
  },
  {
   "cell_type": "markdown",
   "metadata": {},
   "source": [
    "|Model|Best Score|Acurracy on Training Data|Accuracy on Validation|MCC|Best Param|\n",
    "|:------|:-----|:-----|:-------|:-------|:---|\n",
    "|Logistic Regression w CountVectorizer|0.694|0.850|0.694|0.393|'cvec__max_df': 7, 'cvec__max_features': 5000, 'lr__C': 0.01, 'lr__penalty': 'l2', 'lr__solver': 'liblinear'|\n",
    "|Logistic Regression w TF-IDF|0.883|0.954|0.851|0.703|'lr__C': 1.0, 'lr__penalty': 'l2', 'lr__solver': 'liblinear', 'tvec__max_df': 0.3, 'tvec__max_features': 3000, 'tvec__ngram_range': (1, 2)| \n",
    "|Naive Bayes w CountVectorizer|0.706|0.864|0.690|0.383|'cvec__max_df': 7, 'cvec__max_features': 5000|\n",
    "|Naive Bayes w TF-IDF|0.885|0.952|0.844|0.691|'tvec__max_df': 0.3, 'tvec__max_features': 3000, 'tvec__ngram_range': (1, 2)|\n",
    "|KNN w CountVectorizer|0.559|0.657|0.579|0.196|'cvec__max_df': 7, 'cvec__max_features': 1000, 'knn__n_neighbors': 7|\n",
    "|KNN w TF-IDF|0.813|0.843|0.800|0.616|'knn__n_neighbors': 13, 'tvec__max_df': 0.3, 'tvec__max_features': 5000, 'tvec__ngram_range': (1, 2)|\n",
    "|SVM w CountVectorizer|0.675|0.906|0.654|0.316|'cvec__max_df': 7, 'cvec__max_features': 5000, 'svm__C': 3.0, 'svm__degree': 3, 'svm__kernel': 'rbf'|\n",
    "|SVM w TF-IDF|0.877|0.998|0.844|0.691|'svm__C': 3.0, 'svm__degree': 3, 'svm__kernel': 'rbf', 'tvec__max_df': 0.3, 'tvec__max_features': 5000, 'tvec__ngram_range': (1, 2)|"
   ]
  },
  {
   "cell_type": "markdown",
   "metadata": {},
   "source": [
    "## Observations"
   ]
  },
  {
   "cell_type": "markdown",
   "metadata": {},
   "source": [
    "<font color = \"blue\"> \n",
    "The model that performs best here is the **Logistic Regression w TF-IDF** with the following parameters\n",
    "    \n",
    "- 'lr__C': 1.0, \n",
    "- 'lr__penalty': 'l2', \n",
    "- 'lr__solver': 'liblinear'\n",
    "- 'tvec__max_df': 0.3\n",
    "- 'tvec__max_features': 3000, \n",
    "- 'tvec__ngram_range': (1, 2)\n",
    "        \n",
    "which gives us:\n",
    "- **0.851** accuracy score on Validation data \n",
    "- **0.703** on MCC score onn Validation data\n",
    "</font>\t"
   ]
  },
  {
   "cell_type": "code",
   "execution_count": 341,
   "metadata": {},
   "outputs": [],
   "source": [
    "#running the model with the best parameters and find the coefficients \n",
    "tvec = TfidfVectorizer(stop_words=common_words, max_df=0.3, max_features=3000,ngram_range=(1, 2))\n",
    "\n",
    "# Fit TF-IDF on the training data and transform training data.\n",
    "X_train_tvec = tvec.fit_transform(X_train)\n",
    "# Transform our testing data with the already-fit TFIDF\n",
    "X_val_tvec = tvec.transform(X_val)\n",
    "\n",
    "final = LogisticRegression(C=1, solver='liblinear', penalty='l2')\n",
    "\n",
    "final.fit(X_train_tvec, y_train)\n",
    "predictions = final.predict(X_val_tvec)"
   ]
  },
  {
   "cell_type": "markdown",
   "metadata": {},
   "source": [
    "### Top Predictors"
   ]
  },
  {
   "cell_type": "code",
   "execution_count": 343,
   "metadata": {},
   "outputs": [],
   "source": [
    "def plot_coefficients(model, feature_names, top_features=20):\n",
    "    \"\"\"\n",
    "    Function to plot the top coefficient for the linear model\n",
    "    \n",
    "    Takes in arguements:\n",
    "    - model - the linear model which has the coef_ arguement\n",
    "    - feature_names - features that goes into the model\n",
    "    - top_features - number of features that has the most influence of the outcome\n",
    "    \"\"\"\n",
    "    \n",
    "    coef = model.coef_.ravel()\n",
    "\n",
    "    top_positive_coefficients = np.argsort(coef)[-top_features:]\n",
    "    \n",
    "    top_negative_coefficients = np.argsort(coef)[:top_features]\n",
    "    \n",
    "    top_coefficients = np.hstack([top_negative_coefficients, top_positive_coefficients])\n",
    "\n",
    "    # create plot\n",
    "    plt.figure(figsize=(15, 7))\n",
    "    colors = ['green' if c < 0 else 'maroon' for c in coef[top_coefficients]]\n",
    "    plt.bar(np.arange(2 * top_features), coef[top_coefficients], color=colors)\n",
    "    feature_names = np.array(feature_names)\n",
    "    plt.xticks(np.arange(0, 2 * top_features), feature_names[top_coefficients], rotation=45, ha='right')\n",
    "    plt.show()"
   ]
  },
  {
   "cell_type": "code",
   "execution_count": 344,
   "metadata": {},
   "outputs": [
    {
     "data": {
      "image/png": "[encoded data removed]",
      "text/plain": [
       "<Figure size 1080x504 with 1 Axes>"
      ]
     },
     "metadata": {
      "needs_background": "light"
     },
     "output_type": "display_data"
    }
   ],
   "source": [
    "plot_coefficients(model=final, feature_names=tvec.get_feature_names(), top_features=20)"
   ]
  },
  {
   "cell_type": "markdown",
   "metadata": {},
   "source": [
    "<font color = \"blue\"> \n",
    "Top Predictors:\n",
    "- workout: **routin(e),muscle, arm, exercis(e), up** \n",
    "- diet   : **food, calori(e), meal, sugar, keto** \n",
    "</font>"
   ]
  },
  {
   "cell_type": "code",
   "execution_count": 464,
   "metadata": {},
   "outputs": [
    {
     "data": {
      "text/plain": [
       "<sklearn.metrics._plot.roc_curve.RocCurveDisplay at 0x21b26d60108>"
      ]
     },
     "execution_count": 464,
     "metadata": {},
     "output_type": "execute_result"
    },
    {
     "data": {
      "image/png": "[encoded data removed]",
      "text/plain": [
       "<Figure size 1080x360 with 3 Axes>"
      ]
     },
     "metadata": {
      "needs_background": "light"
     },
     "output_type": "display_data"
    }
   ],
   "source": [
    "fig, ax = plt.subplots(nrows=1, ncols=2, figsize=(15,5)) \n",
    "ax = ax.ravel()\n",
    "plot_confusion_matrix(final, X_val_tvec, y_val, display_labels=labels, cmap='Blues', values_format='d', ax=ax[0])\n",
    "plot_roc_curve(final, X_val_tvec, y_val, ax=ax[1])"
   ]
  },
  {
   "cell_type": "markdown",
   "metadata": {},
   "source": [
    "<font color = \"blue\"> \n",
    "Now to look at the 53 misclassified diet class and the 37 misclassified workout class\n",
    "</font>    "
   ]
  },
  {
   "cell_type": "markdown",
   "metadata": {},
   "source": [
    "### Misclassified data"
   ]
  },
  {
   "cell_type": "code",
   "execution_count": 322,
   "metadata": {
    "scrolled": false
   },
   "outputs": [],
   "source": [
    "results = y_val.to_frame()\n",
    "results.rename(columns={'is_diet':'actual'}, inplace=True)\n",
    "results['predicted'] = predictions\n",
    "\n",
    "wrongresults = results[results['predicted']!=results['actual']].index"
   ]
  },
  {
   "cell_type": "code",
   "execution_count": 323,
   "metadata": {
    "scrolled": true
   },
   "outputs": [],
   "source": [
    "wrongresults_df = df_combine.loc[wrongresults][['subreddit', 'wordslist', 'stemmed_post']].sort_values(by='subreddit')"
   ]
  },
  {
   "cell_type": "code",
   "execution_count": 405,
   "metadata": {
    "scrolled": true
   },
   "outputs": [
    {
     "data": {
      "text/html": [
       "<div>\n",
       "<style scoped>\n",
       "    .dataframe tbody tr th:only-of-type {\n",
       "        vertical-align: middle;\n",
       "    }\n",
       "\n",
       "    .dataframe tbody tr th {\n",
       "        vertical-align: top;\n",
       "    }\n",
       "\n",
       "    .dataframe thead th {\n",
       "        text-align: right;\n",
       "    }\n",
       "</style>\n",
       "<table border=\"1\" class=\"dataframe\">\n",
       "  <thead>\n",
       "    <tr style=\"text-align: right;\">\n",
       "      <th></th>\n",
       "      <th>subreddit</th>\n",
       "      <th>wordslist</th>\n",
       "      <th>stemmed_post</th>\n",
       "      <th>predicted</th>\n",
       "    </tr>\n",
       "  </thead>\n",
       "  <tbody>\n",
       "    <tr>\n",
       "      <th>207</th>\n",
       "      <td>workout</td>\n",
       "      <td>[protein, calori, day, mayb, day, week, questi...</td>\n",
       "      <td>protein calori day mayb day week question day ...</td>\n",
       "      <td>1</td>\n",
       "    </tr>\n",
       "    <tr>\n",
       "      <th>749</th>\n",
       "      <td>workout</td>\n",
       "      <td>[good, preworkout, good, preworkout, trustwort...</td>\n",
       "      <td>good preworkout good preworkout trustworthi on...</td>\n",
       "      <td>1</td>\n",
       "    </tr>\n",
       "    <tr>\n",
       "      <th>819</th>\n",
       "      <td>workout</td>\n",
       "      <td>[fast, run, fast, plan, remaind, year, lift, c...</td>\n",
       "      <td>fast run fast plan remaind year lift cardio pe...</td>\n",
       "      <td>1</td>\n",
       "    </tr>\n",
       "    <tr>\n",
       "      <th>611</th>\n",
       "      <td>workout</td>\n",
       "      <td>[benefit, bcaa, read, watch, non, bias, review...</td>\n",
       "      <td>benefit bcaa read watch non bias review bcaa l...</td>\n",
       "      <td>1</td>\n",
       "    </tr>\n",
       "    <tr>\n",
       "      <th>490</th>\n",
       "      <td>workout</td>\n",
       "      <td>[love, proudct, help, whole, bodi, overweight,...</td>\n",
       "      <td>love proudct help whole bodi overweight found wow</td>\n",
       "      <td>1</td>\n",
       "    </tr>\n",
       "    <tr>\n",
       "      <th>696</th>\n",
       "      <td>workout</td>\n",
       "      <td>[food, plan, muscl, build, hey, recent, chang,...</td>\n",
       "      <td>food plan muscl build hey recent chang food pl...</td>\n",
       "      <td>1</td>\n",
       "    </tr>\n",
       "    <tr>\n",
       "      <th>224</th>\n",
       "      <td>workout</td>\n",
       "      <td>[weight, loss, work, may, sound, stupid, burn,...</td>\n",
       "      <td>weight loss work may sound stupid burn cal nee...</td>\n",
       "      <td>1</td>\n",
       "    </tr>\n",
       "    <tr>\n",
       "      <th>521</th>\n",
       "      <td>workout</td>\n",
       "      <td>[male, good, idea, start, weightlift]</td>\n",
       "      <td>male good idea start weightlift</td>\n",
       "      <td>1</td>\n",
       "    </tr>\n",
       "    <tr>\n",
       "      <th>894</th>\n",
       "      <td>workout</td>\n",
       "      <td>[n, perca, isso, alimento, que, te, ajudam, em...</td>\n",
       "      <td>n perca isso alimento que te ajudam emagrec</td>\n",
       "      <td>1</td>\n",
       "    </tr>\n",
       "    <tr>\n",
       "      <th>575</th>\n",
       "      <td>workout</td>\n",
       "      <td>[look, advic, lose, weight, hey, guy, hope, so...</td>\n",
       "      <td>look advic lose weight hey guy hope someon hel...</td>\n",
       "      <td>1</td>\n",
       "    </tr>\n",
       "    <tr>\n",
       "      <th>159</th>\n",
       "      <td>workout</td>\n",
       "      <td>[excess, elimin, hi, wonder, best, elimin, exc...</td>\n",
       "      <td>excess elimin hi wonder best elimin excess mad...</td>\n",
       "      <td>1</td>\n",
       "    </tr>\n",
       "    <tr>\n",
       "      <th>565</th>\n",
       "      <td>workout</td>\n",
       "      <td>[look, advic, hi, male, fairli, activ, decent,...</td>\n",
       "      <td>look advic hi male fairli activ decent health ...</td>\n",
       "      <td>1</td>\n",
       "    </tr>\n",
       "    <tr>\n",
       "      <th>806</th>\n",
       "      <td>workout</td>\n",
       "      <td>[weight, fat, loss, cut, titl, say, lose, fat,...</td>\n",
       "      <td>weight fat loss cut titl say lose fat weight e...</td>\n",
       "      <td>1</td>\n",
       "    </tr>\n",
       "    <tr>\n",
       "      <th>217</th>\n",
       "      <td>workout</td>\n",
       "      <td>[nutrit, q, hey, everybodi, hope, stay, safe, ...</td>\n",
       "      <td>nutrit q hey everybodi hope stay safe start ge...</td>\n",
       "      <td>1</td>\n",
       "    </tr>\n",
       "    <tr>\n",
       "      <th>143</th>\n",
       "      <td>workout</td>\n",
       "      <td>[pre, help, tri, find, pre, supplement, work, ...</td>\n",
       "      <td>pre help tri find pre supplement work best als...</td>\n",
       "      <td>1</td>\n",
       "    </tr>\n",
       "    <tr>\n",
       "      <th>40</th>\n",
       "      <td>workout</td>\n",
       "      <td>[eat, enough, bulk, hey, guy, first, bulk, win...</td>\n",
       "      <td>eat enough bulk hey guy first bulk winter tri ...</td>\n",
       "      <td>1</td>\n",
       "    </tr>\n",
       "    <tr>\n",
       "      <th>641</th>\n",
       "      <td>workout</td>\n",
       "      <td>[question, someon, obes, hey, guy, first, post...</td>\n",
       "      <td>question someon obes hey guy first post tri ke...</td>\n",
       "      <td>1</td>\n",
       "    </tr>\n",
       "    <tr>\n",
       "      <th>150</th>\n",
       "      <td>workout</td>\n",
       "      <td>[start, lb, lb, goal, lb, abl, maintain, weight]</td>\n",
       "      <td>start lb lb goal lb abl maintain weight</td>\n",
       "      <td>1</td>\n",
       "    </tr>\n",
       "    <tr>\n",
       "      <th>4</th>\n",
       "      <td>workout</td>\n",
       "      <td>[day, zac, efron, week, baywatch, programm]</td>\n",
       "      <td>day zac efron week baywatch programm</td>\n",
       "      <td>1</td>\n",
       "    </tr>\n",
       "    <tr>\n",
       "      <th>804</th>\n",
       "      <td>workout</td>\n",
       "      <td>[new, whole, thing, look, help, basic, home, s...</td>\n",
       "      <td>new whole thing look help basic home stuff yo ...</td>\n",
       "      <td>1</td>\n",
       "    </tr>\n",
       "  </tbody>\n",
       "</table>\n",
       "</div>"
      ],
      "text/plain": [
       "    subreddit                                          wordslist  \\\n",
       "207   workout  [protein, calori, day, mayb, day, week, questi...   \n",
       "749   workout  [good, preworkout, good, preworkout, trustwort...   \n",
       "819   workout  [fast, run, fast, plan, remaind, year, lift, c...   \n",
       "611   workout  [benefit, bcaa, read, watch, non, bias, review...   \n",
       "490   workout  [love, proudct, help, whole, bodi, overweight,...   \n",
       "696   workout  [food, plan, muscl, build, hey, recent, chang,...   \n",
       "224   workout  [weight, loss, work, may, sound, stupid, burn,...   \n",
       "521   workout              [male, good, idea, start, weightlift]   \n",
       "894   workout  [n, perca, isso, alimento, que, te, ajudam, em...   \n",
       "575   workout  [look, advic, lose, weight, hey, guy, hope, so...   \n",
       "159   workout  [excess, elimin, hi, wonder, best, elimin, exc...   \n",
       "565   workout  [look, advic, hi, male, fairli, activ, decent,...   \n",
       "806   workout  [weight, fat, loss, cut, titl, say, lose, fat,...   \n",
       "217   workout  [nutrit, q, hey, everybodi, hope, stay, safe, ...   \n",
       "143   workout  [pre, help, tri, find, pre, supplement, work, ...   \n",
       "40    workout  [eat, enough, bulk, hey, guy, first, bulk, win...   \n",
       "641   workout  [question, someon, obes, hey, guy, first, post...   \n",
       "150   workout   [start, lb, lb, goal, lb, abl, maintain, weight]   \n",
       "4     workout        [day, zac, efron, week, baywatch, programm]   \n",
       "804   workout  [new, whole, thing, look, help, basic, home, s...   \n",
       "\n",
       "                                          stemmed_post  predicted  \n",
       "207  protein calori day mayb day week question day ...          1  \n",
       "749  good preworkout good preworkout trustworthi on...          1  \n",
       "819  fast run fast plan remaind year lift cardio pe...          1  \n",
       "611  benefit bcaa read watch non bias review bcaa l...          1  \n",
       "490  love proudct help whole bodi overweight found wow          1  \n",
       "696  food plan muscl build hey recent chang food pl...          1  \n",
       "224  weight loss work may sound stupid burn cal nee...          1  \n",
       "521                    male good idea start weightlift          1  \n",
       "894        n perca isso alimento que te ajudam emagrec          1  \n",
       "575  look advic lose weight hey guy hope someon hel...          1  \n",
       "159  excess elimin hi wonder best elimin excess mad...          1  \n",
       "565  look advic hi male fairli activ decent health ...          1  \n",
       "806  weight fat loss cut titl say lose fat weight e...          1  \n",
       "217  nutrit q hey everybodi hope stay safe start ge...          1  \n",
       "143  pre help tri find pre supplement work best als...          1  \n",
       "40   eat enough bulk hey guy first bulk winter tri ...          1  \n",
       "641  question someon obes hey guy first post tri ke...          1  \n",
       "150            start lb lb goal lb abl maintain weight          1  \n",
       "4                 day zac efron week baywatch programm          1  \n",
       "804  new whole thing look help basic home stuff yo ...          1  "
      ]
     },
     "execution_count": 405,
     "metadata": {},
     "output_type": "execute_result"
    }
   ],
   "source": [
    "wrongresults_df['predicted'] = results.loc[wrongresults][['predicted']]\n",
    "wrongresults_df.tail(20)"
   ]
  },
  {
   "cell_type": "code",
   "execution_count": 325,
   "metadata": {
    "scrolled": false
   },
   "outputs": [
    {
     "data": {
      "text/plain": [
       "diet       54\n",
       "workout    34\n",
       "Name: subreddit, dtype: int64"
      ]
     },
     "execution_count": 325,
     "metadata": {},
     "output_type": "execute_result"
    }
   ],
   "source": [
    "wrongresults_df['subreddit'].value_counts()"
   ]
  },
  {
   "cell_type": "code",
   "execution_count": 371,
   "metadata": {},
   "outputs": [],
   "source": [
    "def exclude_words(data, ex_words):\n",
    "    \"\"\"\n",
    "    Function to check if item in parsed in data is in list of words to exclude\n",
    "    Takes in arguements:\n",
    "    - data - list of words to check\n",
    "    - excludewords - list of words to check against to exclude\n",
    "    \n",
    "    returns string that does not include the excludewords\n",
    "    \"\"\"\n",
    "    checked_words = [w for w in data.split() if w not in ex_words]\n",
    "    return checked_words"
   ]
  },
  {
   "cell_type": "code",
   "execution_count": 366,
   "metadata": {},
   "outputs": [],
   "source": [
    "wrong_diet = ' '.join(wrongresults_df[wrongresults_df['subreddit']=='diet']['stemmed_post'].values)"
   ]
  },
  {
   "cell_type": "code",
   "execution_count": 372,
   "metadata": {},
   "outputs": [],
   "source": [
    "wrong_workout = ' '.join(wrongresults_df[wrongresults_df['subreddit']=='workout']['stemmed_post'].values)"
   ]
  },
  {
   "cell_type": "code",
   "execution_count": 379,
   "metadata": {},
   "outputs": [
    {
     "data": {
      "image/png": "[encoded data removed]",
      "text/plain": [
       "<Figure size 432x288 with 1 Axes>"
      ]
     },
     "metadata": {
      "needs_background": "light"
     },
     "output_type": "display_data"
    }
   ],
   "source": [
    "wrong_diet_df= findcommonwords(exclude_words(wrong_diet, common_words), isstr=False, num_words=20, plot=True, color=None)"
   ]
  },
  {
   "cell_type": "code",
   "execution_count": 380,
   "metadata": {},
   "outputs": [
    {
     "data": {
      "image/png": "[encoded data removed]",
      "text/plain": [
       "<Figure size 432x288 with 1 Axes>"
      ]
     },
     "metadata": {
      "needs_background": "light"
     },
     "output_type": "display_data"
    }
   ],
   "source": [
    "wrong_workout_df = findcommonwords(exclude_words(wrong_workout, common_words), isstr=False, num_words=20, plot=True, color=None)"
   ]
  },
  {
   "cell_type": "markdown",
   "metadata": {},
   "source": [
    "<font color = \"blue\"> \n",
    "Some of the top misclassified data has words that are promminent in the other category. Examine 2 of each misclassified record to investigate\n",
    "</font>   "
   ]
  },
  {
   "cell_type": "code",
   "execution_count": 403,
   "metadata": {
    "scrolled": true
   },
   "outputs": [
    {
     "data": {
      "text/plain": [
       "array(['Any tips for what would be the best diet for my ideal body type? What should I cut out? I’m naturally a big boi but I’m pretty thin now for the most part. I’m 5’11, 164 lbs. I have a decent amount of fat on my lower back and my thighs that I’ve never in my life been able to get rid of. I have very little definition and I’ve never had a hint of abs. Most of all I wanna lose that fat and get ab definition. Then I wanna bulk up a little. I’m less worried about staying bulked up then I am about keeping that pesky fat off.\\n\\nI’ve been doing a 15 hour fast between 8pm and 12pm every day and it’s helped me sleep and my skin has been way less flabby (except for the past couple days but I’ve been eating junk food). I mostly avoid fast food and I eat once or twice a day with “healthy” snacks in between. For the past month I’ve been eating chicken breast and eggs every day. I eat fruit and sometimes veggies every day. I honestly don’t know a lot about calories and nutrition.\\n\\nI’m a runner but I haven’t kept up with it every day recently. I do about 3 sets of 6 different ab exercises every morning always ending with a plank and I try and do at least a 100 push ups a day. I do various Dumbell workouts every day for my arms. My gym opened back up 2 days ago so I’ll be going 3-5 days a week.\\n\\nSo if a nutritionist or anybody can help me, I’m not looking for a detailed diet plan unless you have one. I just need tips or just something to cut out. I’m struggling with bread Ngl. Should I cut out cheese? I need to know these things. Any tips on hobbies or exercise that would help are great too.'],\n",
       "      dtype=object)"
      ]
     },
     "execution_count": 403,
     "metadata": {},
     "output_type": "execute_result"
    }
   ],
   "source": [
    "#post diet wrongly classified as workout \n",
    "df_combine.loc[1741][['post']].values"
   ]
  },
  {
   "cell_type": "markdown",
   "metadata": {},
   "source": [
    "<font color = \"blue\"> \n",
    "Includes words like runner, workouts, Mixed description with dieting queries\n",
    "</font>   "
   ]
  },
  {
   "cell_type": "code",
   "execution_count": 404,
   "metadata": {
    "scrolled": false
   },
   "outputs": [
    {
     "data": {
      "text/plain": [
       "array([\"Can't figure out the right way for me to eat I’m 17, 5’3 and 115lbs. But I’m “skinny fat”, so I’m trying to lose the fat and build a little bit of muscle. I’m vegan, and starting a couple days ago, I’m trying to consume 50g+ of protein. I don’t like eating to be honest, but I’m doing my best so that I can hit my protein intake. My eating habits have been really clean for the past month and a half (or so). I exercise almost everyday as well. But it feels like no matter what, I can’t lose the extra fat. Building muscle underneath isn’t as hard, but fat loss feels nearly impossible at this point. Its all definitely taking a toll on my mental health, so any advice is appreciated.\"],\n",
       "      dtype=object)"
      ]
     },
     "execution_count": 404,
     "metadata": {},
     "output_type": "execute_result"
    }
   ],
   "source": [
    "#post diet wrongly classified as workout \n",
    "df_combine.loc[1337][['post']].values"
   ]
  },
  {
   "cell_type": "markdown",
   "metadata": {},
   "source": [
    "<font color = \"blue\"> \n",
    "Includes words like exercise, muscle, Mixed description with dieting queries\n",
    "</font>   "
   ]
  },
  {
   "cell_type": "code",
   "execution_count": 407,
   "metadata": {
    "scrolled": true
   },
   "outputs": [
    {
     "data": {
      "text/plain": [
       "array([\"No weight/fat loss while cutting As the title says i am not losing any fat/weight even though i am cutting. It's weird cause i seem to be doing everything right on paper, i've been working out for 4 months now (started with bulking) i'm at a 200-300 calorie deficit and am working out 3 times a week. I consume about 0.9gr protein per pound. Over the past 3-4 weeks nothing changed, my bodyfat% and weight are still the same so i know i'm doing something wrong. If anyone has an idea or tips it would be much appreciated tnx\"],\n",
       "      dtype=object)"
      ]
     },
     "execution_count": 407,
     "metadata": {},
     "output_type": "execute_result"
    }
   ],
   "source": [
    "#post workout wrongly classified as diet \n",
    "df_combine.loc[806][['post']].values"
   ]
  },
  {
   "cell_type": "markdown",
   "metadata": {},
   "source": [
    "<font color = \"blue\"> \n",
    "Includes words like calorie, Mixed description with dieting queries\n",
    "</font>   "
   ]
  },
  {
   "cell_type": "code",
   "execution_count": 408,
   "metadata": {
    "scrolled": true
   },
   "outputs": [
    {
     "data": {
      "text/plain": [
       "array([\"Eating enough during a bulk Hey guys. I'm doing my first bulk this winter and I'm trying to ease myself into the eating for the first week or two. With this, I'm struggling to eat enough calories to put myself in a surplus.\\n\\nBased on what my fitbit says (which I take with a grain of salt) I'm burning approx. 3200 cal/day. So I'm trying work my way up to between 3300-3400 cal/day.\\n\\nAny suggestions on getting the calories in? I'm trying to do a lean bulk so I'm sticking to as much whole foods as I can.\"],\n",
       "      dtype=object)"
      ]
     },
     "execution_count": 408,
     "metadata": {},
     "output_type": "execute_result"
    }
   ],
   "source": [
    "#post workout wrongly classified as diet \n",
    "df_combine.loc[40][['post']].values"
   ]
  },
  {
   "cell_type": "markdown",
   "metadata": {},
   "source": [
    "<font color = \"blue\"> \n",
    "Includes words like calorie, bulking. Generalized qn\n",
    "</font>   "
   ]
  },
  {
   "cell_type": "markdown",
   "metadata": {},
   "source": [
    "## Conclusion"
   ]
  },
  {
   "cell_type": "markdown",
   "metadata": {},
   "source": [
    "**Classification Model:**\n",
    "- Logistic Regression with TFIDF give us the highest accuracy (0.85) and MCC (0.703) score\n",
    "- This will be a good start to see how much time we can cut down from tagging the queries, and how fast we can channel the queries to the relevant parties.\n",
    "\n",
    "**Next Steps:**\n",
    "- More data Collection (scrapping from comments section)\n",
    "- Fine tune accuracy using Ensembling of different models\n",
    "\n",
    "**Final Goal:**\n",
    "- Topic Modelling and Chatbot creation\n"
   ]
  }
 ],
 "metadata": {
  "kernelspec": {
   "display_name": "Python 3",
   "language": "python",
   "name": "python3"
  },
  "language_info": {
   "codemirror_mode": {
    "name": "ipython",
    "version": 3
   },
   "file_extension": ".py",
   "mimetype": "text/x-python",
   "name": "python",
   "nbconvert_exporter": "python",
   "pygments_lexer": "ipython3",
   "version": "3.7.6"
  },
  "toc": {
   "base_numbering": 1,
   "nav_menu": {},
   "number_sections": false,
   "sideBar": true,
   "skip_h1_title": true,
   "title_cell": "Table of Contents",
   "title_sidebar": "Contents",
   "toc_cell": true,
   "toc_position": {
    "height": "398px",
    "left": "25px",
    "top": "32px",
    "width": "165px"
   },
   "toc_section_display": true,
   "toc_window_display": true
  }
 },
 "nbformat": 4,
 "nbformat_minor": 4
}
